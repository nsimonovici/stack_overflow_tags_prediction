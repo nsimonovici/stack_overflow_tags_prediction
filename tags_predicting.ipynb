{
 "cells": [
  {
   "cell_type": "code",
   "execution_count": 1,
   "metadata": {},
   "outputs": [
    {
     "data": {
      "text/html": [
       "<style>.container { width:80% !important; }</style>"
      ],
      "text/plain": [
       "<IPython.core.display.HTML object>"
      ]
     },
     "metadata": {},
     "output_type": "display_data"
    }
   ],
   "source": [
    "from IPython.core.display import display, HTML\n",
    "display(HTML(\"<style>.container { width:80% !important; }</style>\"))"
   ]
  },
  {
   "cell_type": "markdown",
   "metadata": {},
   "source": [
    "# 1) Importations"
   ]
  },
  {
   "cell_type": "code",
   "execution_count": 2,
   "metadata": {},
   "outputs": [
    {
     "name": "stdout",
     "output_type": "stream",
     "text": [
      "Populating the interactive namespace from numpy and matplotlib\n",
      "[nltk_data] Downloading package wordnet to\n",
      "[nltk_data]     C:\\Users\\simon\\AppData\\Roaming\\nltk_data...\n",
      "[nltk_data]   Package wordnet is already up-to-date!\n"
     ]
    }
   ],
   "source": [
    "%pylab inline\n",
    "import os\n",
    "import math\n",
    "import time\n",
    "import pickle\n",
    "import re\n",
    "import itertools\n",
    "import random\n",
    "\n",
    "import scipy\n",
    "import pandas as pd\n",
    "import seaborn as sns\n",
    "from sklearn import model_selection, naive_bayes, decomposition, ensemble, multiclass, tree, metrics, preprocessing, svm, linear_model\n",
    "from sklearn.feature_extraction.text import CountVectorizer, TfidfTransformer\n",
    "from bs4 import BeautifulSoup\n",
    "import nltk\n",
    "nltk.download('wordnet')\n",
    "from nltk.corpus import stopwords, wordnet\n",
    "from nltk.stem import WordNetLemmatizer "
   ]
  },
  {
   "cell_type": "markdown",
   "metadata": {},
   "source": [
    "# 2) Functions"
   ]
  },
  {
   "cell_type": "code",
   "execution_count": 3,
   "metadata": {},
   "outputs": [],
   "source": [
    "def count_tags(data):\n",
    "    count_df = pd.Series(data.loc[:, tags_features].squeeze().values.ravel()).value_counts()\n",
    "    ct_df = pd.DataFrame({'Tag': count_df.index,\n",
    "                                  'Count': count_df.values,\n",
    "                                  'Prcentage (%)': (100 * (count_df / count_df.sum())).values})\n",
    "    return ct_df"
   ]
  },
  {
   "cell_type": "code",
   "execution_count": 4,
   "metadata": {},
   "outputs": [],
   "source": [
    "def display_topics(model, feature_names, no_top_words):\n",
    "    for topic_idx, topic in enumerate(model.components_):\n",
    "        print(\"Topic %d:\" % (topic_idx))\n",
    "        string_out = \" \".join([feature_names[i] + \" ({:.0f}) \".format(topic[i]) for i in topic.argsort()[:-no_top_words - 1:-1]])\n",
    "        print(string_out)"
   ]
  },
  {
   "cell_type": "code",
   "execution_count": 5,
   "metadata": {},
   "outputs": [],
   "source": [
    "def get_wordnet_pos(word):\n",
    "    \"\"\"Map POS tag to first character lemmatize() accepts\"\"\"\n",
    "    # Get tag first letter\n",
    "    tag = nltk.pos_tag([word])[0][1][0].upper()\n",
    "    # Create dict of relevant tags\n",
    "    tag_dict = {\"J\": wordnet.ADJ,\n",
    "                \"N\": wordnet.NOUN,\n",
    "                \"V\": wordnet.VERB,\n",
    "                \"R\": wordnet.ADV}\n",
    "    # Return relevant tag otherwise Noun\n",
    "    return tag_dict.get(tag, wordnet.NOUN)"
   ]
  },
  {
   "cell_type": "code",
   "execution_count": 6,
   "metadata": {},
   "outputs": [],
   "source": [
    "def body_to_words(raw_body):\n",
    "    \"\"\"\n",
    "    Function to convert a raw body to a string of words\n",
    "    The input is a single string (a raw body string), and the output is a single string (a preprocessed body)\n",
    "    \"\"\"\n",
    "    # 1. Remove HTML\n",
    "    body_text = BeautifulSoup(raw_body, \"lxml\").get_text() \n",
    "    #\n",
    "    # 2. Remove non-letters non-numbers      \n",
    "    letters_numbers_only = re.sub(\"[^a-zA-Z0-9#+]\", \" \", body_text) \n",
    "    #\n",
    "    # 3. Convert to lower case, split into individual words\n",
    "    words = letters_numbers_only.lower().split()                             \n",
    "    #\n",
    "    # 4. In Python, searching a set is much faster than searching a list, so convert the stop words to a set\n",
    "    stops = set(stopwords.words(\"english\"))                  \n",
    "    # \n",
    "    # 5. Remove stop words\n",
    "    meaningful_words = [w for w in words if not w in stops]   \n",
    "    #\n",
    "    # 6. Lemmatize words\n",
    "    lemmatizer = WordNetLemmatizer()\n",
    "    lemmatize_meaningful_words = [lemmatizer.lemmatize(w, get_wordnet_pos(w)) for w in meaningful_words]\n",
    "    #\n",
    "    # 7. Join the words back into one string separated by space, and return the result.\n",
    "    return( \" \".join( meaningful_words ))   "
   ]
  },
  {
   "cell_type": "code",
   "execution_count": 7,
   "metadata": {},
   "outputs": [],
   "source": [
    "def text_processing(raw_text):\n",
    "    \"\"\"\n",
    "    Function to convert a raw text to a string of words\n",
    "    The input is a single string (a raw body string), and the output is a single string (a preprocessed body)\n",
    "    \"\"\"\n",
    "    # 1. Remove HTML\n",
    "    striped_text = BeautifulSoup(raw_text, \"lxml\").get_text() \n",
    "    #\n",
    "    # 2. Remove non-letters non-numbers      \n",
    "    letters_numbers_only = re.sub(\"[^a-zA-Z0-9#+]\", \" \", striped_text) \n",
    "    #\n",
    "    # 3. Convert to lower case, split into individual words\n",
    "    words = letters_numbers_only.lower()\n",
    "    \n",
    "    return words"
   ]
  },
  {
   "cell_type": "code",
   "execution_count": 8,
   "metadata": {},
   "outputs": [],
   "source": [
    "def text_processing_stop_words(raw_text):\n",
    "    \"\"\"\n",
    "    Function to convert a raw text to a string of words\n",
    "    The input is a single string (a raw body string), and the output is a single string (a preprocessed body)\n",
    "    \"\"\"\n",
    "    # 1. Remove HTML\n",
    "    striped_text = BeautifulSoup(raw_text, \"lxml\").get_text() \n",
    "    #\n",
    "    # 2. Remove non-letters non-numbers      \n",
    "    letters_numbers_only = re.sub(\"[^a-zA-Z0-9#+]\", \" \", striped_text) \n",
    "    #\n",
    "    # 3. Convert to lower case, split into individual words\n",
    "    words = letters_numbers_only.lower().split()\n",
    "    # 4. In Python, searching a set is much faster than searching a list, so convert the stop words to a set\n",
    "    stops = set(stopwords.words(\"english\"))                  \n",
    "    # \n",
    "    # 5. Remove stop words\n",
    "    meaningful_words = [w for w in words if not w in stops]  \n",
    "    \n",
    "    return meaningful_words"
   ]
  },
  {
   "cell_type": "code",
   "execution_count": 9,
   "metadata": {},
   "outputs": [],
   "source": [
    "def get_trusted_tag_predictions(df, threshold):\n",
    "    \"\"\"\n",
    "    Take a dataframe of predicted tags probabilities as input\n",
    "    Rows can be just ones and zeros (decision tree classifier), if not only keep predictions with at least 80% probability,\n",
    "        turn those into ones and set the remanining probabilities to zero\n",
    "    \"\"\"\n",
    "    df[df < threshold] = 0\n",
    "    df[df >= threshold] = 1\n",
    "    # Convert to int\n",
    "    df = df.astype('int64')\n",
    "    return df"
   ]
  },
  {
   "cell_type": "code",
   "execution_count": 10,
   "metadata": {
    "scrolled": true
   },
   "outputs": [],
   "source": [
    "def build_output(row):\n",
    "    \"\"\"\n",
    "    Take a row of predicted tags probabilities and output the corresponding string of tags\n",
    "    Take 5 tags at most, 5 with best classifier accuracy score if more than 5 tags are predicted by the classifiers\n",
    "    \"\"\"\n",
    "    # Turn row into boolean\n",
    "    row_bool = row.astype(bool)\n",
    "    # Get predicted tags from columns names\n",
    "    pred_tags = test_predictions_df.columns.values[row_bool]\n",
    "\n",
    "    # How many tags have been predicted ?\n",
    "    n_pred_tags = len(pred_tags)\n",
    "    # If more than 5, need to sort\n",
    "    if n_pred_tags > 5 :\n",
    "        # Get accuracy related to predicted tags\n",
    "        accuracies = np.array(true_positive_rates)[row_bool]\n",
    "        # Sort to get 5 best predictions scores\n",
    "        sorting_array = np.argsort(- accuracies)\n",
    "        # Retrieve associated tags\n",
    "        out_tags = pred_tags[sorting_array][:5]\n",
    "    elif n_pred_tags == 0:\n",
    "        # Predict most regular tag\n",
    "        out_tags = np.array(popular_tags[0])\n",
    "    else:\n",
    "        out_tags = pred_tags\n",
    "    \n",
    "    \n",
    "    if n_pred_tags > 1:\n",
    "        out_string = \"/\".join(out_tags.tolist())\n",
    "    elif n_pred_tags == 1:\n",
    "        out_string = out_tags.tolist()[0]\n",
    "    else:\n",
    "        out_string = out_tags.tolist()\n",
    "    \n",
    "    return out_string"
   ]
  },
  {
   "cell_type": "code",
   "execution_count": 11,
   "metadata": {
    "scrolled": true
   },
   "outputs": [],
   "source": [
    "def get_most_probable_tags(row, selected_tags):\n",
    "    \"\"\"\n",
    "    Take a row of predicted tags probabilities and output the corresponding string of tags\n",
    "    Take 5 tags at most, 5 with best classifier accuracy score if more than 5 tags are predicted by the classifiers\n",
    "    \"\"\"\n",
    "    # Sort probabilities\n",
    "    probs = row.sort_values(ascending=False)\n",
    "\n",
    "    # How many tags have been predicted ?\n",
    "    n_pred_tags = len(probs[probs > 0])\n",
    "    # If at least 5, take 5 firsts\n",
    "    if n_pred_tags >= 5 :\n",
    "        # Retrieve associated tags\n",
    "        out_tags = probs[:5].index.values\n",
    "    elif n_pred_tags == 0:\n",
    "        # Predict most regular tag\n",
    "        out_tags = np.array(selected_tags[0])\n",
    "    else:\n",
    "        out_tags = probs[:n_pred_tags].index.values\n",
    "\n",
    "    # Output string\n",
    "    if n_pred_tags > 1:\n",
    "        out_string = \"/\".join(out_tags.tolist())\n",
    "    elif n_pred_tags == 1:\n",
    "        out_string = out_tags.tolist()[0]\n",
    "    else:\n",
    "        out_string = out_tags.tolist()\n",
    "    \n",
    "    return out_string"
   ]
  },
  {
   "cell_type": "code",
   "execution_count": 12,
   "metadata": {},
   "outputs": [],
   "source": [
    "def local_accuracy(row):\n",
    "    \"\"\"\n",
    "    Input is string of tags separated with '/'\n",
    "    Input is turned into arrays of lists of tags\n",
    "    Compute an accuracy score specific to the number of tags of the question and shrink it to a 1-based value\n",
    "    Output average.\n",
    "    If the number of predicted tags is greater than the number of true tags, score will be limited to 1.\n",
    "    \"\"\"\n",
    "    # Get lists of tags\n",
    "    y_true = row.True_Tags.split(\"/\")\n",
    "    y_pred = row.Predicted_Tags.split(\"/\")\n",
    "    # Compute difference\n",
    "    diff = np.setdiff1d(y_true, y_pred)\n",
    "    len_diff = len(y_true) - len(diff)\n",
    "    score_entry = len_diff / len(y_true)\n",
    "    # Return local score\n",
    "    return score_entry"
   ]
  },
  {
   "cell_type": "code",
   "execution_count": 13,
   "metadata": {},
   "outputs": [],
   "source": [
    "def pick_dump(obj_name, file_name):\n",
    "    \"\"\" Save with pickle\"\"\"\n",
    "    with open(file_name + '.pickle', 'wb') as file:\n",
    "        pickle.dump(obj_name, file, protocol=pickle.HIGHEST_PROTOCOL)\n",
    "    \n",
    "def pick_load(file_name):\n",
    "    \"\"\" Load with pickle\"\"\"\n",
    "    with open(file_name + '.pickle', 'rb') as file:\n",
    "        obj = pickle.load(file)\n",
    "    return obj"
   ]
  },
  {
   "cell_type": "code",
   "execution_count": 14,
   "metadata": {},
   "outputs": [],
   "source": [
    "def create_binary_target_df(selected_tags, data_set):\n",
    "    \"\"\"\n",
    "    Use selected tags and build a matrix of ones and zeros (but not in sparse format) indicating what tags are related\n",
    "    to each question \n",
    "    \"\"\"\n",
    "    tags_features = ['Tag_1', 'Tag_2', 'Tag_3', 'Tag_4', 'Tag_5']\n",
    "    print(\"Computing binary target dataframe for %i selected tags\" % selected_tags.shape[0])\n",
    "    # Creating numpy array for faster computation\n",
    "    temp_array = np.zeros((data_set.shape[0], selected_tags.shape[0]))\n",
    "    # Loop over every selected tag\n",
    "    for i, tag in zip(range(temp_array.shape[1]), selected_tags.values):\n",
    "        # Find if tag countained in question's tags\n",
    "        temp_array[:, i] = np.sum(data_set.loc[:, tags_features] == tag, axis=1)\n",
    "\n",
    "    # Limiting array values to 0 and 1\n",
    "    temp_array[temp_array > 1] = 1\n",
    "    # Converting numpy array to pandas dataframe\n",
    "    target_binary = pd.DataFrame(temp_array, columns=selected_tags, dtype='int64')\n",
    "\n",
    "    return target_binary"
   ]
  },
  {
   "cell_type": "code",
   "execution_count": 15,
   "metadata": {},
   "outputs": [],
   "source": [
    "def data_preprocessing_kg(data):\n",
    "    \"\"\"\n",
    "    Function preparing data for unsupervised and supervised learning.\n",
    "    Input is data as pandas dataframe.\n",
    "    Output is resulting sparse matrix.\n",
    "    \"\"\"\n",
    "    \n",
    "    print(\"Cleaning Body text\")\n",
    "    # Apply treatment to body\n",
    "    # Create clean body df\n",
    "    body_words_clean = pd.DataFrame(columns=['body_words'])\n",
    "    # Apply text processing to clean body df\n",
    "    body_words_clean['body_words'] = data.Body.apply(text_processing)\n",
    "\n",
    "    print(\"Cleaning Title text\")\n",
    "    # Apply treatment to title\n",
    "    # Create clean title df\n",
    "    title_words_clean = pd.DataFrame(columns=['title_words'])\n",
    "    # Apply text processing to clean title df\n",
    "    title_words_clean['title_words'] = data.Title.apply(text_processing)\n",
    "\n",
    "    # Initialise Vectorizer to create binary bag of words (1 if the word is present in the document)\n",
    "    vectorizer_kag = CountVectorizer(analyzer=\"word\", tokenizer=None, preprocessor=None, stop_words=None, binary=True) \n",
    "\n",
    "    print(\"Vectorizing body and title into bag of words\")\n",
    "    # Vectorise our clean body and title words\n",
    "    body_words_features = vectorizer_kag.fit_transform(body_words_clean.body_words)\n",
    "    title_words_features = vectorizer_kag.fit_transform(title_words_clean.title_words)\n",
    "\n",
    "    print(\"Body vectorized of shape (%i, %i) and Title vectorized of shape (%i, %i)\" % (body_words_features.shape[0],\n",
    "                                                                                        body_words_features.shape[1],\n",
    "                                                                                        title_words_features.shape[0],\n",
    "                                                                                        title_words_features.shape[1]))\n",
    "    \n",
    "    # Drop features with less than N occurences*\n",
    "    min_feat_occ = 20\n",
    "    print(\"Droping features with less than %i occurences\" % min_feat_occ)\n",
    "    \n",
    "    # For body\n",
    "    words_counts_body = body_words_features.sum(axis=0)\n",
    "    indices = np.where(words_counts_body >= min_feat_occ)[1]\n",
    "    body_words_features_threshold = body_words_features.tocsc()[:,indices]\n",
    "    \n",
    "    # For title\n",
    "    words_counts_title = title_words_features.sum(axis=0)\n",
    "    indices = np.where(words_counts_title >= 20)[1]\n",
    "    title_words_features_threshold = title_words_features.tocsc()[:,indices]\n",
    "\n",
    "    print(\"Body vectorized of shape (%i, %i) and Title vectorized of shape (%i, %i)\" % (body_words_features_threshold.shape[0],\n",
    "                                                                                        body_words_features_threshold.shape[1],\n",
    "                                                                                        title_words_features_threshold.shape[0],\n",
    "                                                                                        title_words_features_threshold.shape[1]))\n",
    "\n",
    "    # Combine body and text features\n",
    "    words_features = scipy.sparse.hstack((body_words_features_threshold, title_words_features_threshold))\n",
    "    print(\"Final features matrix size : \", words_features.shape)\n",
    "    \n",
    "    return words_features, vectorizer_kag"
   ]
  },
  {
   "cell_type": "code",
   "execution_count": 16,
   "metadata": {},
   "outputs": [],
   "source": [
    "def get_enough_frequent_tags(row, min_frequency, most_frequent_tag):\n",
    "    \"\"\"\n",
    "    Return the tags most frequently associated to the lda topics, if frequency is above certain threshold.\n",
    "    If no tags over min frequency threshold : attribute most frequent tag\n",
    "    \"\"\"\n",
    "    # Sort row\n",
    "    sorted_row = row.sort_values(ascending=False)\n",
    "    # Test if at least one tag over min frequency threshold\n",
    "    if sorted_row[0] >= min_frequency:\n",
    "        acceptable_values = sorted_row[sorted_row >= min_frequency].index.values\n",
    "        if len(acceptable_values) > 5 :\n",
    "            output = acceptable_values[:5]\n",
    "        else:\n",
    "            output = acceptable_values\n",
    "    # else return most frequent tag\n",
    "    else:\n",
    "        output = [most_frequent_tag]\n",
    "    \n",
    "    return output"
   ]
  },
  {
   "cell_type": "code",
   "execution_count": 17,
   "metadata": {},
   "outputs": [],
   "source": [
    "def get_scores(truth_pred_comparison_df, unique_tags_serie, verbose=True):\n",
    "    \"\"\"\n",
    "    Function that outputs lcoal metric and f1-score\n",
    "    \"\"\"\n",
    "    ### Local hand-made metric ###\n",
    "    truth_pred_comparison_df['local_metric'] = truth_pred_comparison_df.apply(local_accuracy, axis=1)\n",
    "    local_metric = truth_pred_comparison_df.local_metric.mean()\n",
    "    \n",
    "    ### Calculating f1_score ###\n",
    "\n",
    "    # Split tags and make tags lists for multilabel binarizer to work with\n",
    "    y_true_splitted = truth_pred_comparison_df.True_Tags.apply(lambda x: x.split(\"/\"))\n",
    "    # From dataframe to series\n",
    "    y_pred_splitted = truth_pred_comparison_df.Predicted_Tags.apply(lambda x: x.split(\"/\"))\n",
    "    \n",
    "    # Fit test true tags\n",
    "    binarizer = preprocessing.MultiLabelBinarizer().fit(unique_tags_serie)\n",
    "\n",
    "    # Check what have been learnt by the binarizer\n",
    "    \n",
    "    # Compute f1_score average on samples because of multi-label multi-class classification\n",
    "    f1_score = metrics.f1_score(binarizer.transform(y_true_splitted),\n",
    "                                binarizer.transform(y_pred_splitted),\n",
    "                                average='samples')\n",
    "\n",
    "    if verbose:\n",
    "        print(\"Average hand-made local accuracy score : %.2f\" % local_metric)\n",
    "        print(\"F1 Score : %.3f\" % f1_score)\n",
    "        print(\"sample of binarizer vocabulary\", binarizer.classes_)\n",
    "    return local_metric, f1_score"
   ]
  },
  {
   "cell_type": "markdown",
   "metadata": {},
   "source": [
    "# 3) Gathering data"
   ]
  },
  {
   "cell_type": "markdown",
   "metadata": {},
   "source": [
    "Loading main dataframe, already cleant"
   ]
  },
  {
   "cell_type": "code",
   "execution_count": null,
   "metadata": {},
   "outputs": [],
   "source": [
    "# Getting current path\n",
    "path = os.getcwd()\n",
    "try :\n",
    "    print(\"Loading clean questions full dataset\")\n",
    "    data_raw = pd.read_csv(path + \"/data/data_questions_clean.csv\", sep=',')\n",
    "    print(\"Clean questions full dataset loaded\")\n",
    "except :\n",
    "    print(\"The 'data_questions_clean.csv' file is not in the 'data' folder\")"
   ]
  },
  {
   "cell_type": "markdown",
   "metadata": {},
   "source": [
    "### Loading pre-processed dataframe in order to save cleaning computational time"
   ]
  },
  {
   "cell_type": "code",
   "execution_count": 18,
   "metadata": {},
   "outputs": [
    {
     "name": "stdout",
     "output_type": "stream",
     "text": [
      "Loading pre-processed clean questions full dataset\n",
      "pre-processed clean questions full dataset loaded\n"
     ]
    }
   ],
   "source": [
    "preclean = True\n",
    "if preclean:\n",
    "    # Getting current path\n",
    "    path = os.getcwd()\n",
    "    try :\n",
    "        print(\"Loading pre-processed clean questions full dataset\")\n",
    "        data_raw = pd.read_csv(path + \"/data/data_questions_clean_processed.csv\", sep=',')\n",
    "        print(\"pre-processed clean questions full dataset loaded\")\n",
    "    except :\n",
    "        print(\"The 'data_questions_clean_processed.csv' file is not in the 'data' folder\")"
   ]
  },
  {
   "cell_type": "markdown",
   "metadata": {},
   "source": [
    "Having a look at our data"
   ]
  },
  {
   "cell_type": "code",
   "execution_count": null,
   "metadata": {},
   "outputs": [],
   "source": [
    "data_raw.head()"
   ]
  },
  {
   "cell_type": "markdown",
   "metadata": {},
   "source": [
    "# 4) Cleaning / Exploring"
   ]
  },
  {
   "cell_type": "markdown",
   "metadata": {},
   "source": [
    "## 4.1) Cleaning"
   ]
  },
  {
   "cell_type": "markdown",
   "metadata": {},
   "source": [
    "Just in case"
   ]
  },
  {
   "cell_type": "code",
   "execution_count": 19,
   "metadata": {},
   "outputs": [],
   "source": [
    "tags_features = ['Tag_1', 'Tag_2', 'Tag_3', 'Tag_4', 'Tag_5']"
   ]
  },
  {
   "cell_type": "code",
   "execution_count": 20,
   "metadata": {
    "scrolled": false
   },
   "outputs": [
    {
     "name": "stdout",
     "output_type": "stream",
     "text": [
      "Initial shape :  (169430, 33)\n",
      "New shape :  (169430, 33)\n",
      "New shape :  (169430, 33)\n",
      "New shape :  (169430, 33)\n"
     ]
    }
   ],
   "source": [
    "print(\"Initial shape : \", data_raw.shape)\n",
    "data_raw = data_raw.dropna(subset=['Tags'])\n",
    "print(\"New shape : \", data_raw.shape)\n",
    "try:\n",
    "    data_raw = data_raw.dropna(subset=['New_Tags_syn'])\n",
    "    print(\"New shape : \", data_raw.shape)\n",
    "except KeyError:\n",
    "    pass\n",
    "try:\n",
    "    data_raw = data_raw.dropna(subset=tags_features, how='all')\n",
    "    print(\"New shape : \", data_raw.shape)\n",
    "except KeyError:\n",
    "    pass"
   ]
  },
  {
   "cell_type": "markdown",
   "metadata": {},
   "source": [
    "## 4.2) Exploring reminder"
   ]
  },
  {
   "cell_type": "markdown",
   "metadata": {},
   "source": [
    "Before removing synonyms :"
   ]
  },
  {
   "cell_type": "code",
   "execution_count": 21,
   "metadata": {},
   "outputs": [
    {
     "name": "stdout",
     "output_type": "stream",
     "text": [
      "Total of 13971 unique Tags\n"
     ]
    }
   ],
   "source": [
    "temp_list = [x.split('/') for x in data_raw.New_Tags_syn.values.tolist()]\n",
    "tags_list = [y for x in temp_list for y in x]\n",
    "unique_tags_syn = list(set(tags_list))\n",
    "print(\"Total of %i unique Tags\" % len(unique_tags_syn))"
   ]
  },
  {
   "cell_type": "markdown",
   "metadata": {},
   "source": [
    "Counting Tags in Dataframe in order to find most popular Tags"
   ]
  },
  {
   "cell_type": "code",
   "execution_count": 22,
   "metadata": {
    "scrolled": true
   },
   "outputs": [
    {
     "data": {
      "text/html": [
       "<div>\n",
       "<style scoped>\n",
       "    .dataframe tbody tr th:only-of-type {\n",
       "        vertical-align: middle;\n",
       "    }\n",
       "\n",
       "    .dataframe tbody tr th {\n",
       "        vertical-align: top;\n",
       "    }\n",
       "\n",
       "    .dataframe thead th {\n",
       "        text-align: right;\n",
       "    }\n",
       "</style>\n",
       "<table border=\"1\" class=\"dataframe\">\n",
       "  <thead>\n",
       "    <tr style=\"text-align: right;\">\n",
       "      <th></th>\n",
       "      <th>Tag</th>\n",
       "      <th>Count</th>\n",
       "      <th>Prcentage (%)</th>\n",
       "    </tr>\n",
       "  </thead>\n",
       "  <tbody>\n",
       "    <tr>\n",
       "      <th>0</th>\n",
       "      <td>c#</td>\n",
       "      <td>23650</td>\n",
       "      <td>4.818477</td>\n",
       "    </tr>\n",
       "    <tr>\n",
       "      <th>1</th>\n",
       "      <td>.net</td>\n",
       "      <td>15082</td>\n",
       "      <td>3.072823</td>\n",
       "    </tr>\n",
       "    <tr>\n",
       "      <th>2</th>\n",
       "      <td>java</td>\n",
       "      <td>12107</td>\n",
       "      <td>2.466693</td>\n",
       "    </tr>\n",
       "    <tr>\n",
       "      <th>3</th>\n",
       "      <td>asp.net</td>\n",
       "      <td>11082</td>\n",
       "      <td>2.257859</td>\n",
       "    </tr>\n",
       "    <tr>\n",
       "      <th>4</th>\n",
       "      <td>javascript</td>\n",
       "      <td>8486</td>\n",
       "      <td>1.728947</td>\n",
       "    </tr>\n",
       "  </tbody>\n",
       "</table>\n",
       "</div>"
      ],
      "text/plain": [
       "          Tag  Count  Prcentage (%)\n",
       "0          c#  23650       4.818477\n",
       "1        .net  15082       3.072823\n",
       "2        java  12107       2.466693\n",
       "3     asp.net  11082       2.257859\n",
       "4  javascript   8486       1.728947"
      ]
     },
     "execution_count": 22,
     "metadata": {},
     "output_type": "execute_result"
    }
   ],
   "source": [
    "count_tags_df = count_tags(data_raw)\n",
    "count_tags_df.head()"
   ]
  },
  {
   "cell_type": "code",
   "execution_count": 23,
   "metadata": {},
   "outputs": [],
   "source": [
    "most_popular_tag = count_tags_df.Tag[0]"
   ]
  },
  {
   "cell_type": "markdown",
   "metadata": {},
   "source": [
    "Get all tags to train binarizers for computing f1-score"
   ]
  },
  {
   "cell_type": "code",
   "execution_count": 24,
   "metadata": {},
   "outputs": [],
   "source": [
    "unique_tags_serie = pd.Series(unique_tags_syn).apply(lambda x: [x])"
   ]
  },
  {
   "cell_type": "markdown",
   "metadata": {},
   "source": [
    "# 5) First modelisation approach"
   ]
  },
  {
   "cell_type": "markdown",
   "metadata": {},
   "source": [
    "Naive modelisation looking at rough data as explanatory features"
   ]
  },
  {
   "cell_type": "code",
   "execution_count": null,
   "metadata": {},
   "outputs": [],
   "source": [
    "feature = 'Body'"
   ]
  },
  {
   "cell_type": "markdown",
   "metadata": {},
   "source": [
    "Train / Test split"
   ]
  },
  {
   "cell_type": "markdown",
   "metadata": {},
   "source": [
    "Taking sample"
   ]
  },
  {
   "cell_type": "code",
   "execution_count": null,
   "metadata": {},
   "outputs": [],
   "source": [
    "X_train_first = data_raw.loc[:, feature].iloc[:10000]\n",
    "X_test_first = data_raw.loc[:, feature].iloc[10000:11000]\n",
    "y_train_first = data_raw.New_Tags_syn.iloc[:10000]\n",
    "y_test_first = data_raw.New_Tags_syn.iloc[10000:11000]"
   ]
  },
  {
   "cell_type": "markdown",
   "metadata": {},
   "source": [
    "Creating bag of words"
   ]
  },
  {
   "cell_type": "code",
   "execution_count": null,
   "metadata": {},
   "outputs": [],
   "source": [
    "count_vect = CountVectorizer()\n",
    "X_train_first_counts = count_vect.fit_transform(X_train_first)\n",
    "X_train_first_counts.shape"
   ]
  },
  {
   "cell_type": "markdown",
   "metadata": {},
   "source": [
    "Looking at vocabulary learnt by the algorithm"
   ]
  },
  {
   "cell_type": "code",
   "execution_count": null,
   "metadata": {},
   "outputs": [],
   "source": [
    "count_vect.vocabulary_"
   ]
  },
  {
   "cell_type": "markdown",
   "metadata": {},
   "source": [
    "Convert bag of words into Tf-idf matrices"
   ]
  },
  {
   "cell_type": "code",
   "execution_count": null,
   "metadata": {},
   "outputs": [],
   "source": [
    "tfidf_transformer = TfidfTransformer()\n",
    "X_train_first_tfidf = tfidf_transformer.fit_transform(X_train_first_counts)\n",
    "X_train_first_tfidf.shape"
   ]
  },
  {
   "cell_type": "code",
   "execution_count": null,
   "metadata": {
    "scrolled": true
   },
   "outputs": [],
   "source": [
    "print(X_train_first_tfidf[0])"
   ]
  },
  {
   "cell_type": "markdown",
   "metadata": {},
   "source": [
    "Train naive bayes classifier"
   ]
  },
  {
   "cell_type": "code",
   "execution_count": null,
   "metadata": {},
   "outputs": [],
   "source": [
    "clf = naive_bayes.MultinomialNB().fit(X_train_first_counts, y_train_first)"
   ]
  },
  {
   "cell_type": "markdown",
   "metadata": {},
   "source": [
    "Predict test data"
   ]
  },
  {
   "cell_type": "code",
   "execution_count": null,
   "metadata": {},
   "outputs": [],
   "source": [
    "X_test_first_counts = count_vect.transform(X_test_first)\n",
    "X_test_first_tfidf = tfidf_transformer.transform(X_test_first_counts)\n",
    "\n",
    "predicted = clf.predict(X_test_first_tfidf)\n",
    "y_pred_first = pd.Series(predicted)\n",
    "# Transform predicted array to pandas serie of lists of predicted tags in order to train binarizer\n",
    "y_pred_first_serie = y_pred_first.apply(lambda x: x.split(\"/\"))\n",
    "# Transform true pandas serie to pandas serie of lists of predicted tags in order to train binarizer\n",
    "y_test_first_serie = y_test_first.apply(lambda x: x.split(\"/\"))\n",
    "# Transform true pandas serie to pandas serie of lists of predicted tags in order to train binarizer\n",
    "y_train_first_serie = y_train_first.apply(lambda x: x.split(\"/\"))"
   ]
  },
  {
   "cell_type": "markdown",
   "metadata": {},
   "source": [
    "Compare truth and prediction, compute local metric"
   ]
  },
  {
   "cell_type": "code",
   "execution_count": null,
   "metadata": {
    "scrolled": true
   },
   "outputs": [],
   "source": [
    "y_pred_first.index = y_test_first.index\n",
    "comparison_df_naive = pd.concat((y_pred_first, y_test_first), axis=1)\n",
    "comparison_df_naive.columns = ['Predicted_Tags', 'True_Tags']\n",
    "# display\n",
    "display(comparison_df_naive)"
   ]
  },
  {
   "cell_type": "code",
   "execution_count": null,
   "metadata": {},
   "outputs": [],
   "source": [
    "get_scores(comparison_df_naive, unique_tags_serie)"
   ]
  },
  {
   "cell_type": "markdown",
   "metadata": {},
   "source": [
    "As expected this naive classifier outputs poor results"
   ]
  },
  {
   "cell_type": "markdown",
   "metadata": {},
   "source": [
    "# 6) Text cleaning - data preprocessing"
   ]
  },
  {
   "cell_type": "markdown",
   "metadata": {},
   "source": [
    "If needed : clean main text feature (quite long)"
   ]
  },
  {
   "cell_type": "code",
   "execution_count": null,
   "metadata": {},
   "outputs": [],
   "source": [
    "# data_raw['clean_title_body'] = data_raw.loc[:, 'TitleBody'].apply(body_to_words)"
   ]
  },
  {
   "cell_type": "markdown",
   "metadata": {},
   "source": [
    "Let's use a reasonnable train/test size for our tests"
   ]
  },
  {
   "cell_type": "markdown",
   "metadata": {},
   "source": [
    "#### Selecting Train et Test sets"
   ]
  },
  {
   "cell_type": "code",
   "execution_count": 25,
   "metadata": {},
   "outputs": [],
   "source": [
    "length_train = 30000\n",
    "length_test = 8000\n",
    "# Get random data of train + test size\n",
    "data_train_test = data_raw.sample(length_train + length_test, random_state=0)\n",
    "# In those random data slice into train and test datasets\n",
    "data_train = data_train_test.iloc[:length_train, :]\n",
    "data_test = data_train_test.iloc[length_train:, :]"
   ]
  },
  {
   "cell_type": "markdown",
   "metadata": {},
   "source": [
    "### Text Processing"
   ]
  },
  {
   "cell_type": "markdown",
   "metadata": {},
   "source": [
    "\"Advanced\" text processing"
   ]
  },
  {
   "cell_type": "code",
   "execution_count": 26,
   "metadata": {},
   "outputs": [],
   "source": [
    "# In order to save computational time : not cleaning everytime\n",
    "if preclean:\n",
    "    feature = 'clean_title_body'\n",
    "    X_train_adv = data_train.loc[:, feature]\n",
    "    X_test_adv = data_test.loc[:, feature]    \n",
    "else: # Excessively time consuming\n",
    "    # Apply advanced text processing\n",
    "    feature = 'TitleBody'\n",
    "    print(\"Training set processing\")\n",
    "    X_train_adv = data_train.loc[:, feature].apply(body_to_words)\n",
    "    print(\"Testing set processing\")\n",
    "    X_test_adv = data_test.loc[:, feature].apply(body_to_words)\n",
    "\n",
    "y_train = data_train.New_Tags_syn\n",
    "y_test = data_test.New_Tags_syn"
   ]
  },
  {
   "cell_type": "markdown",
   "metadata": {},
   "source": [
    "Creating bag of words"
   ]
  },
  {
   "cell_type": "code",
   "execution_count": 27,
   "metadata": {},
   "outputs": [
    {
     "name": "stdout",
     "output_type": "stream",
     "text": [
      "Creating the bag of words...\n",
      "\n"
     ]
    }
   ],
   "source": [
    "print(\"Creating the bag of words...\\n\")\n",
    "\n",
    "# Initialize the \"CountVectorizer\" object, which is scikit-learn's bag of words tool.  \n",
    "vectorizer = CountVectorizer(analyzer = \"word\",   \\\n",
    "                             tokenizer = None,    \\\n",
    "                             preprocessor = None, \\\n",
    "                             stop_words = None,   \\\n",
    "                             max_features = 5000) \n",
    "\n",
    "# fit_transform() does two functions: First, it fits the model and learns the vocabulary; second,\n",
    "# it transforms our training data into feature vectors. The input to fit_transform should be a list of strings.\n",
    "train_data_features_adv = vectorizer.fit_transform(X_train_adv)\n",
    "test_data_features_adv = vectorizer.fit_transform(X_test_adv)\n",
    "\n",
    "# Numpy arrays are easy to work with, so convert the result to an array\n",
    "# train_data_features_arr = train_data_features.toarray()\n",
    "# test_data_features_arr = test_data_features.toarray()"
   ]
  },
  {
   "cell_type": "markdown",
   "metadata": {},
   "source": [
    "Small interlude : looking at our words features"
   ]
  },
  {
   "cell_type": "code",
   "execution_count": 86,
   "metadata": {},
   "outputs": [],
   "source": [
    "title_clean_serie = data_raw.loc[:, 'Title'].apply(text_processing_stop_words)\n",
    "Title_clean_limited = pd.DataFrame(title_clean_serie)"
   ]
  },
  {
   "cell_type": "code",
   "execution_count": 87,
   "metadata": {},
   "outputs": [],
   "source": [
    "one_title_list = [item for sublist in Title_clean_limited.Title.ravel() for item in sublist]\n",
    "title_words_clean = pd.Series(one_title_list)\n",
    "titlecounts = title_words_clean.value_counts()"
   ]
  },
  {
   "cell_type": "code",
   "execution_count": 103,
   "metadata": {},
   "outputs": [
    {
     "data": {
      "image/png": "[encoded data removed]",
      "text/plain": [
       "<Figure size 576x360 with 1 Axes>"
      ]
     },
     "metadata": {},
     "output_type": "display_data"
    }
   ],
   "source": [
    "fig, ax = plt.subplots(figsize=(8, 5))\n",
    "sns.barplot(y=titlecounts[:10].index.values, x=titlecounts[:10].values, orient='h')\n",
    "# ax.set_xticklabels(titlecounts[:10].index.values, fontsize=12)\n",
    "ax.set_ylabel(\"Most common words in Title\", fontsize=12)\n",
    "ax.set_xlabel(\"Count\", fontsize=12)\n",
    "ax.set_title(\"Distribution of most common words in Title\", fontsize=12);"
   ]
  },
  {
   "cell_type": "code",
   "execution_count": 89,
   "metadata": {},
   "outputs": [],
   "source": [
    "body_clean_serie = data_raw.loc[:, 'Body'].apply(text_processing_stop_words)\n",
    "Body_clean_limited = pd.DataFrame(body_clean_serie)\n",
    "one_body_list = [item for sublist in Body_clean_limited.Body.ravel() for item in sublist]\n",
    "body_words_clean = pd.Series(one_body_list)\n",
    "bodycounts = body_words_clean.value_counts()"
   ]
  },
  {
   "cell_type": "code",
   "execution_count": 104,
   "metadata": {
    "scrolled": true
   },
   "outputs": [
    {
     "data": {
      "image/png": "[encoded data removed]",
      "text/plain": [
       "<Figure size 576x360 with 1 Axes>"
      ]
     },
     "metadata": {},
     "output_type": "display_data"
    }
   ],
   "source": [
    "fig, ax = plt.subplots(figsize=(8, 5))\n",
    "sns.barplot(y=bodycounts[:10].index.values, x=bodycounts[:10].values, orient='h')\n",
    "# ax.set_xticklabels(titlecounts[:10].index.values, fontsize=12)\n",
    "ax.set_ylabel(\"Most common words in Body\", fontsize=12)\n",
    "ax.set_xlabel(\"Count\", fontsize=12)\n",
    "ax.set_title(\"Distribution of most common words in Body\", fontsize=12);"
   ]
  },
  {
   "cell_type": "markdown",
   "metadata": {},
   "source": [
    "\"Limited\" text processing"
   ]
  },
  {
   "cell_type": "code",
   "execution_count": 28,
   "metadata": {},
   "outputs": [
    {
     "name": "stdout",
     "output_type": "stream",
     "text": [
      "Cleaning Body text\n",
      "Cleaning Title text\n",
      "Vectorizing body and title into bag of words\n",
      "Body vectorized of shape (38000, 103901) and Title vectorized of shape (38000, 15927)\n",
      "Droping features with less than 20 occurences\n",
      "Body vectorized of shape (38000, 6712) and Title vectorized of shape (38000, 1766)\n",
      "Final features matrix size :  (38000, 8478)\n"
     ]
    }
   ],
   "source": [
    "words_features_train_test, vectorizer = data_preprocessing_kg(data_train_test)"
   ]
  },
  {
   "cell_type": "markdown",
   "metadata": {},
   "source": [
    "Get Bag of Words Train and Test dataset"
   ]
  },
  {
   "cell_type": "code",
   "execution_count": 29,
   "metadata": {},
   "outputs": [],
   "source": [
    "train_data_features_lim = words_features_train_test[:length_train, :]\n",
    "test_data_features_lim = words_features_train_test[length_train:, :]"
   ]
  },
  {
   "cell_type": "markdown",
   "metadata": {},
   "source": [
    "## Select text processing method"
   ]
  },
  {
   "cell_type": "code",
   "execution_count": 30,
   "metadata": {},
   "outputs": [],
   "source": [
    "text_processing_type = 'limited'\n",
    "# Select prOcessed data\n",
    "if text_processing_type == 'advanced':\n",
    "    train_data_features = train_data_features_adv\n",
    "    test_data_features = test_data_features_adv\n",
    "elif text_processing_type == 'limited':\n",
    "    train_data_features = train_data_features_lim\n",
    "    test_data_features = test_data_features_lim\n",
    "else:\n",
    "    raise IndexError"
   ]
  },
  {
   "cell_type": "markdown",
   "metadata": {},
   "source": [
    "## Select Counts bag of words or Tf-idf matrices"
   ]
  },
  {
   "cell_type": "code",
   "execution_count": 31,
   "metadata": {},
   "outputs": [],
   "source": [
    "tfidf = False\n",
    "if tfidf:\n",
    "    tfidf_transformer = TfidfTransformer()\n",
    "    X_train = tfidf_transformer.fit_transform(train_data_features)\n",
    "    X_test = tfidf_transformer.transform(test_data_features)\n",
    "else:\n",
    "    X_train = train_data_features\n",
    "    X_test = test_data_features"
   ]
  },
  {
   "cell_type": "code",
   "execution_count": 32,
   "metadata": {},
   "outputs": [
    {
     "name": "stdout",
     "output_type": "stream",
     "text": [
      "(30000, 8478) (8000, 8478)\n"
     ]
    }
   ],
   "source": [
    "print(X_train.shape, X_test.shape)"
   ]
  },
  {
   "cell_type": "markdown",
   "metadata": {},
   "source": [
    "# 7) Classifiers - Supervised learning"
   ]
  },
  {
   "cell_type": "markdown",
   "metadata": {},
   "source": [
    "## 7.1) First Modelisation : Supervised classification with different classifiers"
   ]
  },
  {
   "cell_type": "code",
   "execution_count": null,
   "metadata": {},
   "outputs": [],
   "source": [
    "print(X_train.shape, y_train.shape)\n",
    "if X_train.shape[0] != y_train.shape[0]:\n",
    "    raise IndexError"
   ]
  },
  {
   "cell_type": "code",
   "execution_count": null,
   "metadata": {},
   "outputs": [],
   "source": [
    "# Take a look at the words in the vocabulary\n",
    "vocab = vectorizer.get_feature_names()\n",
    "print(random.sample(vocab, 20))"
   ]
  },
  {
   "cell_type": "markdown",
   "metadata": {},
   "source": [
    "### 7.1.1) Train naive bayes classifier"
   ]
  },
  {
   "cell_type": "code",
   "execution_count": null,
   "metadata": {},
   "outputs": [],
   "source": [
    "naive_bayes_clf = naive_bayes.MultinomialNB()\n",
    "naive_bayes_ovr = multiclass.OneVsRestClassifier(naive_bayes_clf, n_jobs=-1)\n",
    "print(\"Training on train dataset\")\n",
    "naive_bayes_clf = naive_bayes_clf.fit(X_train, y_train)"
   ]
  },
  {
   "cell_type": "code",
   "execution_count": null,
   "metadata": {
    "scrolled": true
   },
   "outputs": [],
   "source": [
    "# Use the naive bayes to make tags label predictions\n",
    "print(\"Predicting for test dataset\")\n",
    "result_nb = naive_bayes_clf.predict(X_test)"
   ]
  },
  {
   "cell_type": "code",
   "execution_count": null,
   "metadata": {},
   "outputs": [],
   "source": [
    "# Copy the results to a pandas dataframe with a \"tags\" column\n",
    "output_nb = pd.DataFrame(result_nb, index=y_test.index, columns=['pred_tags'])\n",
    "\n",
    "# Concatenate truth and prediction\n",
    "comparison_df_nb = pd.concat((output_nb, y_test), axis=1)\n",
    "comparison_df_nb.columns = ['Predicted_Tags', 'True_Tags']"
   ]
  },
  {
   "cell_type": "code",
   "execution_count": null,
   "metadata": {},
   "outputs": [],
   "source": [
    "get_scores(comparison_df_nb, unique_tags_serie);"
   ]
  },
  {
   "cell_type": "markdown",
   "metadata": {},
   "source": [
    "Naive Bayes classifier accomplish little score"
   ]
  },
  {
   "cell_type": "markdown",
   "metadata": {},
   "source": [
    "#### Train SVM classifier"
   ]
  },
  {
   "cell_type": "code",
   "execution_count": 33,
   "metadata": {},
   "outputs": [
    {
     "name": "stdout",
     "output_type": "stream",
     "text": [
      "Training on train dataset\n"
     ]
    }
   ],
   "source": [
    "svm_clf = svm.LinearSVC()\n",
    "svmm = multiclass.OneVsRestClassifier(svm_clf, n_jobs=-1)\n",
    "print(\"Training on train dataset\")\n",
    "svm_clf = svm_clf.fit(train_data_features, y_train)"
   ]
  },
  {
   "cell_type": "code",
   "execution_count": 34,
   "metadata": {},
   "outputs": [],
   "source": [
    "# Use the linear SVM to make tags label predictions\n",
    "result_svm = svm_clf.predict(test_data_features)"
   ]
  },
  {
   "cell_type": "code",
   "execution_count": 35,
   "metadata": {},
   "outputs": [],
   "source": [
    "# Copy the results to a pandas dataframe with a \"tags\" column\n",
    "output_svm = pd.DataFrame(result_svm, index=y_test.index, columns=['pred_tags'])\n",
    "\n",
    "# Concatenate truth and prediction\n",
    "comparison_df_svm = pd.concat((output_svm, y_test), axis=1)\n",
    "comparison_df_svm.columns = ['Predicted_Tags', 'True_Tags']"
   ]
  },
  {
   "cell_type": "code",
   "execution_count": 36,
   "metadata": {},
   "outputs": [
    {
     "name": "stdout",
     "output_type": "stream",
     "text": [
      "Average hand-made local accuracy score : 0.20\n",
      "F1 Score : 0.224\n",
      "sample of binarizer vocabulary ['.emf' '.htaccess' '.htpasswd' ... 'zune' 'zx81' 'zxspectrum']\n"
     ]
    },
    {
     "data": {
      "text/plain": [
       "(0.19839374999999954, 0.2239673611111111)"
      ]
     },
     "execution_count": 36,
     "metadata": {},
     "output_type": "execute_result"
    }
   ],
   "source": [
    "get_scores(comparison_df_svm, unique_tags_serie)"
   ]
  },
  {
   "cell_type": "markdown",
   "metadata": {},
   "source": [
    "SVM classifier accomplish a little bit more than naive bayes"
   ]
  },
  {
   "cell_type": "markdown",
   "metadata": {},
   "source": [
    "#### Train Logistic Regression classifier"
   ]
  },
  {
   "cell_type": "code",
   "execution_count": 33,
   "metadata": {},
   "outputs": [
    {
     "name": "stdout",
     "output_type": "stream",
     "text": [
      "Training on train dataset\n"
     ]
    }
   ],
   "source": [
    "# reg_log_clf = linear_model.LogisticRegression()\n",
    "# reg_log_ovr = multiclass.OneVsRestClassifier(reg_log_clf, n_jobs=-1)\n",
    "# print(\"Training on train dataset\")\n",
    "# reg_log_clf = reg_log_clf.fit(train_data_features, y_train)"
   ]
  },
  {
   "cell_type": "code",
   "execution_count": 34,
   "metadata": {},
   "outputs": [],
   "source": [
    "# # Use the logistic regression to make tags label predictions\n",
    "# result_reg_log = reg_log_clf.predict(test_data_features)"
   ]
  },
  {
   "cell_type": "code",
   "execution_count": 35,
   "metadata": {},
   "outputs": [],
   "source": [
    "# # Copy the results to a pandas dataframe with a \"tags\" column\n",
    "# output_reg_log = pd.DataFrame(result_reg_log, index=y_test.index, columns=['pred_tags'])\n",
    "\n",
    "# # Concatenate truth and prediction\n",
    "# comparison_df_reg_log = pd.concat((output_reg_log, y_test), axis=1)\n",
    "# comparison_df_reg_log.columns = ['Predicted_Tags', 'True_Tags']"
   ]
  },
  {
   "cell_type": "code",
   "execution_count": 36,
   "metadata": {},
   "outputs": [
    {
     "name": "stdout",
     "output_type": "stream",
     "text": [
      "Average hand-made local accuracy score : 0.09\n",
      "F1 Score : 0.107\n",
      "sample of binarizer vocabulary ['.emf' '.htaccess' '.htpasswd' ... 'zune' 'zx81' 'zxspectrum']\n"
     ]
    },
    {
     "data": {
      "text/plain": [
       "(0.09283333333333331, 0.10661904761904763)"
      ]
     },
     "execution_count": 36,
     "metadata": {},
     "output_type": "execute_result"
    }
   ],
   "source": [
    "# get_scores(comparison_df_reg_log, unique_tags_serie)"
   ]
  },
  {
   "cell_type": "markdown",
   "metadata": {},
   "source": [
    "Logistic Regression classifier takes too long to run to be considered as a viable option"
   ]
  },
  {
   "cell_type": "markdown",
   "metadata": {},
   "source": [
    "#### Train Random Forest Classifier : Can't train because of memory"
   ]
  },
  {
   "cell_type": "code",
   "execution_count": null,
   "metadata": {},
   "outputs": [],
   "source": [
    "# print(\"Training the random forest...\")\n",
    "\n",
    "# # Initialize a Random Forest classifier with 100 trees\n",
    "# forest = ensemble.RandomForestClassifier(n_estimators = 100) \n",
    "\n",
    "# # Fit the forest to the training set, using the bag of words as features and the tags labels as the response variable\n",
    "# # This may take a few minutes to run\n",
    "# forest = forest.fit(X_train, y_train)"
   ]
  },
  {
   "cell_type": "markdown",
   "metadata": {},
   "source": [
    "Predict on Test data"
   ]
  },
  {
   "cell_type": "code",
   "execution_count": null,
   "metadata": {},
   "outputs": [],
   "source": [
    "# # Use the random forest to make tags label predictions\n",
    "# result_forest = forest.predict(y_test)"
   ]
  },
  {
   "cell_type": "code",
   "execution_count": null,
   "metadata": {},
   "outputs": [],
   "source": [
    "# # Copy the results to a pandas dataframe with a \"tags\" column\n",
    "# output_forest = pd.DataFrame(result_forest, index=y_test.index, columns=['pred_tags'])\n",
    "\n",
    "# # Concatenate truth and prediction\n",
    "# comparison_df_forest = pd.concat((output_forest, y_test), axis=1)\n",
    "# comparison_df_forest.columns = ['Predicted_Tags', 'True_Tags']"
   ]
  },
  {
   "cell_type": "code",
   "execution_count": null,
   "metadata": {},
   "outputs": [],
   "source": [
    "# get_scores(output_forest, unique_tags_serie)"
   ]
  },
  {
   "cell_type": "markdown",
   "metadata": {},
   "source": [
    "Random Forest classifier takes too much memory to run to be considered as a viable option"
   ]
  },
  {
   "cell_type": "markdown",
   "metadata": {},
   "source": [
    "# 8) Unsupervised approach - LatentDirichletAllocation"
   ]
  },
  {
   "cell_type": "markdown",
   "metadata": {},
   "source": [
    "#### Train LDA"
   ]
  },
  {
   "cell_type": "code",
   "execution_count": null,
   "metadata": {},
   "outputs": [],
   "source": [
    "no_topics = 100\n",
    "\n",
    "# Run LDA\n",
    "lda = decomposition.LatentDirichletAllocation(n_components=no_topics, \n",
    "                                              max_iter=5, \n",
    "                                              learning_method='online', \n",
    "                                              learning_offset=50.,\n",
    "                                              random_state=0)\n",
    "lda.fit(X_train)"
   ]
  },
  {
   "cell_type": "code",
   "execution_count": null,
   "metadata": {
    "scrolled": true
   },
   "outputs": [],
   "source": [
    "no_top_words = 15\n",
    "display_topics(lda, vectorizer.get_feature_names(), no_top_words)"
   ]
  },
  {
   "cell_type": "markdown",
   "metadata": {},
   "source": [
    "#### Transform train features with lda model to output most probable lda topics for each question"
   ]
  },
  {
   "cell_type": "code",
   "execution_count": null,
   "metadata": {},
   "outputs": [],
   "source": [
    "train_feat_transformed = lda.transform(X_train)"
   ]
  },
  {
   "cell_type": "markdown",
   "metadata": {},
   "source": [
    "Distribution of max probability that a question belongs to a lda topic\n",
    "\n",
    "To be used to select a threshold for a question to belong to a topic"
   ]
  },
  {
   "cell_type": "code",
   "execution_count": null,
   "metadata": {},
   "outputs": [],
   "source": [
    "fig, ax = plt.subplots(figsize=(8,5))\n",
    "sns.distplot(np.amax(train_feat_transformed, axis=1), kde=False)\n",
    "ax.set_xlabel(\"Topic affiliation probability\", fontsize=12)\n",
    "ax.set_ylabel(\"Count\", fontsize=12);"
   ]
  },
  {
   "cell_type": "markdown",
   "metadata": {},
   "source": [
    "Get lda topics associated with questions.\n",
    "\n",
    "First only most probable topic, then all topics over a threshold of probability"
   ]
  },
  {
   "cell_type": "code",
   "execution_count": null,
   "metadata": {},
   "outputs": [],
   "source": [
    "max_most_probable_topics = []\n",
    "for i in range(0, len(train_feat_transformed)):\n",
    "    topic_max_proba = np.argsort(-train_feat_transformed[i,:])[0]\n",
    "    max_most_probable_topics.append(topic_max_proba)"
   ]
  },
  {
   "cell_type": "code",
   "execution_count": null,
   "metadata": {},
   "outputs": [],
   "source": [
    "topics, counts = np.unique(max_most_probable_topics, return_counts=True)\n",
    "main_topic = topics[np.argsort(-counts)][0]\n",
    "# main_topic_to_remove = topics[np.argsort(-counts)][0]"
   ]
  },
  {
   "cell_type": "markdown",
   "metadata": {},
   "source": [
    "Remove main topic from the equation"
   ]
  },
  {
   "cell_type": "code",
   "execution_count": null,
   "metadata": {},
   "outputs": [],
   "source": [
    "# train_feat_transformed_red = np.delete(train_feat_transformed, main_topic_to_remove, axis=1)"
   ]
  },
  {
   "cell_type": "code",
   "execution_count": null,
   "metadata": {},
   "outputs": [],
   "source": [
    "# max_most_probable_topics = []\n",
    "# for i in range(0, len(train_feat_transformed_red)):\n",
    "#     topic_max_proba = np.argsort(-train_feat_transformed_red[i,:])[0]\n",
    "#     max_most_probable_topics.append(topic_max_proba)"
   ]
  },
  {
   "cell_type": "code",
   "execution_count": null,
   "metadata": {},
   "outputs": [],
   "source": [
    "# topics, counts = np.unique(max_most_probable_topics, return_counts=True)\n",
    "# main_topic = topics[np.argsort(-counts)][0]"
   ]
  },
  {
   "cell_type": "markdown",
   "metadata": {},
   "source": [
    "Apply threshold"
   ]
  },
  {
   "cell_type": "code",
   "execution_count": null,
   "metadata": {},
   "outputs": [],
   "source": [
    "min_proba_topic = 0\n",
    "most_probable_topics = []\n",
    "for i in range(0, len(train_feat_transformed)):\n",
    "    indexes_sort = np.argsort(-train_feat_transformed[i,:])\n",
    "    max_proba = train_feat_transformed[i,:][indexes_sort][0]\n",
    "    topic_max_proba = indexes_sort[0]\n",
    "    if max_proba >= min_proba_topic:\n",
    "        most_probable_topics.append(topic_max_proba)\n",
    "    else:\n",
    "        most_probable_topics.append(main_topic)"
   ]
  },
  {
   "cell_type": "markdown",
   "metadata": {},
   "source": [
    "Looking at lda topics distribution among questions"
   ]
  },
  {
   "cell_type": "code",
   "execution_count": null,
   "metadata": {},
   "outputs": [],
   "source": [
    "fig, ax = plt.subplots(figsize=(8,5))\n",
    "sns.distplot(most_probable_topics, kde=False)\n",
    "ax.set_xlabel(\"LDA Topic\", fontsize=12)\n",
    "ax.set_ylabel(\"Questions associated to topic\", fontsize=12);"
   ]
  },
  {
   "cell_type": "markdown",
   "metadata": {},
   "source": [
    "Associating questions tags to the related most probable topic"
   ]
  },
  {
   "cell_type": "code",
   "execution_count": null,
   "metadata": {},
   "outputs": [],
   "source": [
    "# Initialize matrix of size (n_topics, n_unique_tags)\n",
    "tags_topics = np.zeros((no_topics, len(unique_tags_syn)))"
   ]
  },
  {
   "cell_type": "code",
   "execution_count": null,
   "metadata": {},
   "outputs": [],
   "source": [
    "test_tags_topics_df = pd.DataFrame(tags_topics, columns=unique_tags_syn, dtype='int64')\n",
    "for i, topic in enumerate(most_probable_topics):\n",
    "    for tag in y_train.iloc[i].split(\"/\"):\n",
    "        test_tags_topics_df.loc[topic, tag] += 1\n",
    "#     if (i % 10000) == 0 :\n",
    "#         print(\"%i / %i\" % (i, len(most_probable_topics)))"
   ]
  },
  {
   "cell_type": "code",
   "execution_count": null,
   "metadata": {},
   "outputs": [],
   "source": [
    "min_frequency_tag = 20\n",
    "main_tags_by_topics = test_tags_topics_df.apply(get_enough_frequent_tags, args=(min_frequency_tag,\n",
    "                                                                                most_popular_tag), axis=1)"
   ]
  },
  {
   "cell_type": "code",
   "execution_count": null,
   "metadata": {
    "scrolled": true
   },
   "outputs": [],
   "source": [
    "tempodf = pd.DataFrame()\n",
    "tempodf['LDA Topic'] = main_tags_by_topics.index.values\n",
    "tempodf['Tags'] = main_tags_by_topics\n",
    "tempodf"
   ]
  },
  {
   "cell_type": "markdown",
   "metadata": {},
   "source": [
    "#### On test dataframe"
   ]
  },
  {
   "cell_type": "markdown",
   "metadata": {},
   "source": [
    "Transform test data through LDA"
   ]
  },
  {
   "cell_type": "code",
   "execution_count": null,
   "metadata": {},
   "outputs": [],
   "source": [
    "test_feat_transformed = lda.transform(X_test)"
   ]
  },
  {
   "cell_type": "markdown",
   "metadata": {},
   "source": [
    "Remove main topic like we did for train data"
   ]
  },
  {
   "cell_type": "code",
   "execution_count": null,
   "metadata": {},
   "outputs": [],
   "source": [
    "# test_feat_transformed = np.delete(test_feat_transformed, main_topic_to_remove, axis=1)"
   ]
  },
  {
   "cell_type": "markdown",
   "metadata": {},
   "source": [
    "Look to which LDA topic test questions are most likely to correspond\n",
    "\n",
    "A probability threshold may make sense here"
   ]
  },
  {
   "cell_type": "code",
   "execution_count": null,
   "metadata": {},
   "outputs": [],
   "source": [
    "min_proba_topic_test = 0\n",
    "most_probable_topics_test = []\n",
    "max_proba_test = []\n",
    "for i in range(0, len(test_feat_transformed)):\n",
    "    indexes_sort = np.argsort(-test_feat_transformed[i,:])\n",
    "    max_proba = test_feat_transformed[i,:][indexes_sort][0]\n",
    "    max_proba_test.append(max_proba)\n",
    "    topic_max_proba = indexes_sort[0]\n",
    "    if max_proba >= min_proba_topic_test:\n",
    "        most_probable_topics_test.append(topic_max_proba)\n",
    "    else:\n",
    "        most_probable_topics_test.append(main_topic)"
   ]
  },
  {
   "cell_type": "code",
   "execution_count": null,
   "metadata": {},
   "outputs": [],
   "source": [
    "fig, ax = plt.subplots(figsize=(8,5))\n",
    "sns.distplot(most_probable_topics_test, kde=False)\n",
    "ax.set_xlabel(\"LDA Topic\", fontsize=12)\n",
    "ax.set_ylabel(\"Questions associated to topic\", fontsize=12);\n",
    "ax.set_title(\"Topics distribution among test questions\", fontsize=12);"
   ]
  },
  {
   "cell_type": "code",
   "execution_count": null,
   "metadata": {},
   "outputs": [],
   "source": [
    "fig, ax = plt.subplots(figsize=(8,5))\n",
    "sns.distplot(max_proba_test, kde=False)\n",
    "ax.set_xlabel(\"Topic affiliation probability\", fontsize=12)\n",
    "ax.set_ylabel(\"Count\", fontsize=12);\n",
    "ax.set_title(\"Topics max probability attribution distribution for test questions\");"
   ]
  },
  {
   "cell_type": "markdown",
   "metadata": {},
   "source": [
    "Notice that most test questions are not surely associated to topics"
   ]
  },
  {
   "cell_type": "code",
   "execution_count": null,
   "metadata": {},
   "outputs": [],
   "source": [
    "mean_max_probas_test = np.mean(max_proba_test)\n",
    "median_max_probas_test = np.median(max_proba_test)\n",
    "print(\"Mean of max probabilities of test questions belonging to topics : %.2f, median : %.2f\" % (mean_max_probas_test,\n",
    "                                                                                                 median_max_probas_test))"
   ]
  },
  {
   "cell_type": "markdown",
   "metadata": {},
   "source": [
    "Attribute topics tags to questions"
   ]
  },
  {
   "cell_type": "code",
   "execution_count": null,
   "metadata": {},
   "outputs": [],
   "source": [
    "y_pred_lda = pd.DataFrame(most_probable_topics_test, index=y_test.index, columns=['topics'])"
   ]
  },
  {
   "cell_type": "code",
   "execution_count": null,
   "metadata": {},
   "outputs": [],
   "source": [
    "y_pred_lda['pred_tags'] = y_pred_lda.topics.apply(lambda x: main_tags_by_topics[x])\n",
    "y_pred_lda = y_pred_lda.drop(labels=['topics'], axis=1)"
   ]
  },
  {
   "cell_type": "markdown",
   "metadata": {},
   "source": [
    "Compare true target to prediction"
   ]
  },
  {
   "cell_type": "code",
   "execution_count": null,
   "metadata": {
    "scrolled": true
   },
   "outputs": [],
   "source": [
    "comparison_df_lda = pd.concat((y_pred_lda, y_test), axis=1)\n",
    "comparison_df_lda.columns = ['Predicted_Tags', 'True_Tags']\n",
    "# '/' join predicted tags\n",
    "comparison_df_lda['Predicted_Tags'] = comparison_df_lda['Predicted_Tags'].apply(lambda x: \"/\".join(x))\n",
    "display(comparison_df_lda)"
   ]
  },
  {
   "cell_type": "code",
   "execution_count": null,
   "metadata": {},
   "outputs": [],
   "source": [
    "comparison_df_lda.sample(10)"
   ]
  },
  {
   "cell_type": "code",
   "execution_count": null,
   "metadata": {},
   "outputs": [],
   "source": [
    "get_scores(comparison_df_lda, unique_tags_serie);"
   ]
  },
  {
   "cell_type": "markdown",
   "metadata": {},
   "source": [
    "#### SCORING GRID, With hand made metric and f1-score\n",
    "**Text processing - Train size - TF-IDF - Test size - N topics - threshold topics - score - f1_score**\n",
    "\n",
    "* Advanced - 100000 - 20000 - False - 100 - 0 - 0.12 - 0.088\n",
    "* Advanced - 100000 - 20000 - False - 50 - 0 - 0.13 - 0.094\n",
    "* Advanced - 100000 - 20000 - False - 50 - 0 - 0.12 - 0.081 -> main topic removed\n",
    "* Advanced - 100000 - 20000 - False - 20 - 0 - 0.14 - 0.094\n",
    "* Advanced - 100000 - 20000 - False - 300 - 0 - 0.11 - 0.079\n",
    "* Limited - 100000 - 20000 - False - 50 - 0 - 0.17 - 0.115\n",
    "* Limited - 100000 - 20000 - False - 50 - 0.3 - 0.16 - 0.112\n",
    "* Advanced - 30000 - 8000 - False - 50 - 0.3 - 0.15 - 0.103\n",
    "* Limited - 30000 - 8000 - True - 50 - 0.3 - 0.15 - 0.105\n",
    "* Limited - 30000 - 8000 - False - 50 - 0 - 0.17 - 0.120\n",
    "* Advanced - 30000 - 8000 - False - 50 - 0 - 0.14 - 0.101\n",
    "* Advanced - 30000 - 8000 - True - 50 - 0 - 0.15 - 0.103\n",
    "* Limited - 30000 - 8000 - False - 50 - 0 - 0.15 - 0.103\n",
    "* Limited - 30000 - 8000 - False - 20 - 0 - 0.18 - 0.119"
   ]
  },
  {
   "cell_type": "markdown",
   "metadata": {},
   "source": [
    "# 9) Supervised classification on words"
   ]
  },
  {
   "cell_type": "markdown",
   "metadata": {},
   "source": [
    "With previous supervised learning methods comes one major issue : learning is done on chains of tags rather than on each tag individually.\n",
    "\n",
    "Therefore accurate predictions tend to be much more difficult.\n",
    "\n",
    "As a solution we will modify our target vector to a matrix target, and train one classifier for each vector in the matrix, corresponding to a boolean presence of absence of the tag vector."
   ]
  },
  {
   "cell_type": "markdown",
   "metadata": {},
   "source": [
    "#### Retrieve train tags with at least N occurences in the train dataset"
   ]
  },
  {
   "cell_type": "code",
   "execution_count": 72,
   "metadata": {},
   "outputs": [
    {
     "name": "stdout",
     "output_type": "stream",
     "text": [
      "Given our training set we selected 622 Tags with at least 20 occurences in the training set\n"
     ]
    }
   ],
   "source": [
    "# Define min volumetry\n",
    "min_tag_volumetry = 20\n",
    "# Retrieve training tags\n",
    "count_tags_train = count_tags(data_train)\n",
    "# Select training tags with minimum volumetry\n",
    "sel_tags_train = count_tags_train[count_tags_train.Count >= min_tag_volumetry].Tag\n",
    "print(\"Given our training set we selected %i Tags with at least %i occurences in the training set\" % (sel_tags_train.shape[0],\n",
    "                                                                                                      min_tag_volumetry))"
   ]
  },
  {
   "cell_type": "markdown",
   "metadata": {},
   "source": [
    "#### Get Target vectors"
   ]
  },
  {
   "cell_type": "markdown",
   "metadata": {},
   "source": [
    "Build targets vectors for one versus rest classification"
   ]
  },
  {
   "cell_type": "code",
   "execution_count": 73,
   "metadata": {},
   "outputs": [
    {
     "name": "stdout",
     "output_type": "stream",
     "text": [
      "Computing binary target dataframe for 622 selected tags\n",
      "Computing binary target dataframe for 622 selected tags\n"
     ]
    }
   ],
   "source": [
    "y_train_kg = create_binary_target_df(sel_tags_train, data_train)\n",
    "y_test_kg = create_binary_target_df(sel_tags_train, data_test)"
   ]
  },
  {
   "cell_type": "markdown",
   "metadata": {},
   "source": [
    "Get target tags strings"
   ]
  },
  {
   "cell_type": "code",
   "execution_count": 74,
   "metadata": {},
   "outputs": [],
   "source": [
    "y_test_kg_tags = data_test.New_Tags_syn"
   ]
  },
  {
   "cell_type": "markdown",
   "metadata": {},
   "source": [
    "#### Train a classifier for each of the selected tags"
   ]
  },
  {
   "cell_type": "code",
   "execution_count": 75,
   "metadata": {},
   "outputs": [],
   "source": [
    "# poly_prune_trees = pick_load(path + \"/data/poly_prune_trees\")"
   ]
  },
  {
   "cell_type": "code",
   "execution_count": 76,
   "metadata": {
    "scrolled": true
   },
   "outputs": [
    {
     "name": "stdout",
     "output_type": "stream",
     "text": [
      "Training classifier for c# tag (1 / 622)\n",
      "Training classifier for .net tag (2 / 622)\n",
      "Training classifier for java tag (3 / 622)\n",
      "Training classifier for asp.net tag (4 / 622)\n",
      "Training classifier for c++ tag (5 / 622)\n",
      "Training classifier for javascript tag (6 / 622)\n",
      "Training classifier for php tag (7 / 622)\n",
      "Training classifier for python tag (8 / 622)\n",
      "Training classifier for sql tag (9 / 622)\n",
      "Training classifier for sql-server tag (10 / 622)\n",
      "Training classifier for jquery tag (11 / 622)\n",
      "Training classifier for html tag (12 / 622)\n",
      "Training classifier for iphone tag (13 / 622)\n",
      "Training classifier for asp.net-mvc tag (14 / 622)\n",
      "Training classifier for windows tag (15 / 622)\n",
      "Training classifier for mysql tag (16 / 622)\n",
      "Training classifier for c-minus-minus tag (17 / 622)\n",
      "Training classifier for wpf tag (18 / 622)\n",
      "Training classifier for xml tag (19 / 622)\n",
      "Training classifier for visual-studio tag (20 / 622)\n",
      "Training classifier for database tag (21 / 622)\n",
      "Training classifier for vb.net tag (22 / 622)\n",
      "Training classifier for css tag (23 / 622)\n",
      "Training classifier for ruby-on-rails tag (24 / 622)\n",
      "Training classifier for ruby tag (25 / 622)\n",
      "Training classifier for winforms tag (26 / 622)\n",
      "Training classifier for objective-c tag (27 / 622)\n",
      "Training classifier for performance tag (28 / 622)\n",
      "Training classifier for linux tag (29 / 622)\n",
      "Training classifier for regex tag (30 / 622)\n",
      "Training classifier for visual-studio-2008 tag (31 / 622)\n",
      "Training classifier for sharepoint tag (32 / 622)\n",
      "Training classifier for linq tag (33 / 622)\n",
      "Training classifier for multithreading tag (34 / 622)\n",
      "Training classifier for web-services tag (35 / 622)\n",
      "Training classifier for svn tag (36 / 622)\n",
      "Training classifier for ajax tag (37 / 622)\n",
      "Training classifier for sql-server-2005 tag (38 / 622)\n",
      "Training classifier for cocoa-touch tag (39 / 622)\n",
      "Training classifier for user-interface tag (40 / 622)\n",
      "Training classifier for security tag (41 / 622)\n",
      "Training classifier for algorithm tag (42 / 622)\n",
      "Training classifier for perl tag (43 / 622)\n",
      "Training classifier for flash tag (44 / 622)\n",
      "Training classifier for django tag (45 / 622)\n",
      "Training classifier for wcf tag (46 / 622)\n",
      "Training classifier for delphi tag (47 / 622)\n",
      "Training classifier for string tag (48 / 622)\n",
      "Training classifier for cocoa tag (49 / 622)\n",
      "Training classifier for oracle tag (50 / 622)\n",
      "Training classifier for flex tag (51 / 622)\n",
      "Training classifier for unit-testing tag (52 / 622)\n",
      "Training classifier for macos tag (53 / 622)\n",
      "Training classifier for winapi tag (54 / 622)\n",
      "Training classifier for arrays tag (55 / 622)\n",
      "Training classifier for debugging tag (56 / 622)\n",
      "Training classifier for silverlight tag (57 / 622)\n",
      "Training classifier for oop tag (58 / 622)\n",
      "Training classifier for eclipse tag (59 / 622)\n",
      "Training classifier for linq-to-sql tag (60 / 622)\n",
      "Training classifier for language-agnostic tag (61 / 622)\n",
      "Training classifier for design tag (62 / 622)\n",
      "Training classifier for tsql tag (63 / 622)\n",
      "Training classifier for version-control tag (64 / 622)\n",
      "Training classifier for iis tag (65 / 622)\n",
      "Training classifier for nhibernate tag (66 / 622)\n",
      "Training classifier for exception tag (67 / 622)\n",
      "Training classifier for design-patterns tag (68 / 622)\n",
      "Training classifier for apache tag (69 / 622)\n",
      "Training classifier for actionscript-3 tag (70 / 622)\n",
      "Training classifier for excel tag (71 / 622)\n",
      "Training classifier for internet-explorer tag (72 / 622)\n",
      "Training classifier for file tag (73 / 622)\n",
      "Training classifier for events tag (74 / 622)\n",
      "Training classifier for http tag (75 / 622)\n",
      "Training classifier for database-design tag (76 / 622)\n",
      "Training classifier for image tag (77 / 622)\n",
      "Training classifier for validation tag (78 / 622)\n",
      "Training classifier for generics tag (79 / 622)\n",
      "Training classifier for testing tag (80 / 622)\n",
      "Training classifier for unix tag (81 / 622)\n",
      "Training classifier for ms-access tag (82 / 622)\n",
      "Training classifier for parsing tag (83 / 622)\n",
      "Training classifier for data-binding tag (84 / 622)\n",
      "Training classifier for authentication tag (85 / 622)\n",
      "Training classifier for scripting tag (86 / 622)\n",
      "Training classifier for optimization tag (87 / 622)\n",
      "Training classifier for .net-3.5 tag (88 / 622)\n",
      "Training classifier for vba tag (89 / 622)\n",
      "Training classifier for email tag (90 / 622)\n",
      "Training classifier for networking tag (91 / 622)\n",
      "Training classifier for forms tag (92 / 622)\n",
      "Training classifier for list tag (93 / 622)\n",
      "Training classifier for entity-framework tag (94 / 622)\n",
      "Training classifier for browser tag (95 / 622)\n",
      "Training classifier for .net-2.0 tag (96 / 622)\n",
      "Training classifier for firefox tag (97 / 622)\n",
      "Training classifier for jsp tag (98 / 622)\n",
      "Training classifier for architecture tag (99 / 622)\n",
      "Training classifier for hibernate tag (100 / 622)\n",
      "Training classifier for stored-procedures tag (101 / 622)\n",
      "Training classifier for reporting-services tag (102 / 622)\n",
      "Training classifier for reflection tag (103 / 622)\n",
      "Training classifier for visual-c++ tag (104 / 622)\n",
      "Training classifier for xaml tag (105 / 622)\n",
      "Training classifier for datetime tag (106 / 622)\n",
      "Training classifier for caching tag (107 / 622)\n",
      "Training classifier for visual-studio-2005 tag (108 / 622)\n",
      "Training classifier for bash tag (109 / 622)\n",
      "Training classifier for dom tag (110 / 622)\n",
      "Training classifier for swing tag (111 / 622)\n",
      "Training classifier for web-applications tag (112 / 622)\n",
      "Training classifier for git tag (113 / 622)\n",
      "Training classifier for xslt tag (114 / 622)\n",
      "Training classifier for serialization tag (115 / 622)\n",
      "Training classifier for deployment tag (116 / 622)\n",
      "Training classifier for json tag (117 / 622)\n",
      "Training classifier for build tag (118 / 622)\n",
      "Training classifier for math tag (119 / 622)\n",
      "Training classifier for session tag (120 / 622)\n",
      "Training classifier for shell tag (121 / 622)\n",
      "Training classifier for dll tag (122 / 622)\n",
      "Training classifier for ide tag (123 / 622)\n",
      "Training classifier for model-view-controller tag (124 / 622)\n",
      "Training classifier for gridview tag (125 / 622)\n",
      "Training classifier for vim tag (126 / 622)\n",
      "Training classifier for graphics tag (127 / 622)\n",
      "Training classifier for command-line tag (128 / 622)\n",
      "Training classifier for class tag (129 / 622)\n",
      "Training classifier for stl tag (130 / 622)\n",
      "Training classifier for logging tag (131 / 622)\n",
      "Training classifier for inheritance tag (132 / 622)\n",
      "Training classifier for templates tag (133 / 622)\n",
      "Training classifier for configuration tag (134 / 622)\n",
      "Training classifier for data-structures tag (135 / 622)\n",
      "Training classifier for sorting tag (136 / 622)\n",
      "Training classifier for sockets tag (137 / 622)\n",
      "Training classifier for windows-mobile tag (138 / 622)\n",
      "Training classifier for batch-file tag (139 / 622)\n",
      "Training classifier for asp-classic tag (140 / 622)\n",
      "Training classifier for coding-style tag (141 / 622)\n",
      "Training classifier for mfc tag (142 / 622)\n",
      "Training classifier for unicode tag (143 / 622)\n",
      "Training classifier for opengl tag (144 / 622)\n",
      "Training classifier for memory-management tag (145 / 622)\n",
      "Training classifier for memory tag (146 / 622)\n",
      "Training classifier for com tag (147 / 622)\n",
      "Training classifier for api tag (148 / 622)\n",
      "Training classifier for encryption tag (149 / 622)\n",
      "Training classifier for tfs tag (150 / 622)\n",
      "Training classifier for installation tag (151 / 622)\n",
      "Training classifier for msbuild tag (152 / 622)\n",
      "Training classifier for orm tag (153 / 622)\n",
      "Training classifier for open-source tag (154 / 622)\n",
      "Training classifier for vb6 tag (155 / 622)\n",
      "Training classifier for collections tag (156 / 622)\n",
      "Training classifier for windows-vista tag (157 / 622)\n",
      "Training classifier for xcode tag (158 / 622)\n",
      "Training classifier for pdf tag (159 / 622)\n",
      "Training classifier for powershell tag (160 / 622)\n",
      "Training classifier for sql-server-2008 tag (161 / 622)\n",
      "Training classifier for controls tag (162 / 622)\n",
      "Training classifier for zend-framework tag (163 / 622)\n",
      "Training classifier for compiler-construction tag (164 / 622)\n",
      "Training classifier for ado.net tag (165 / 622)\n",
      "Training classifier for search tag (166 / 622)\n",
      "Training classifier for date tag (167 / 622)\n",
      "Training classifier for emacs tag (168 / 622)\n",
      "Training classifier for user-controls tag (169 / 622)\n",
      "Training classifier for sqlite tag (170 / 622)\n"
     ]
    },
    {
     "name": "stdout",
     "output_type": "stream",
     "text": [
      "Training classifier for pointers tag (171 / 622)\n",
      "Training classifier for audio tag (172 / 622)\n",
      "Training classifier for java-ee tag (173 / 622)\n",
      "Training classifier for file-io tag (174 / 622)\n",
      "Training classifier for plugins tag (175 / 622)\n",
      "Training classifier for frameworks tag (176 / 622)\n",
      "Training classifier for spring tag (177 / 622)\n",
      "Training classifier for postgresql tag (178 / 622)\n",
      "Training classifier for interface tag (179 / 622)\n",
      "Training classifier for url tag (180 / 622)\n",
      "Training classifier for rest tag (181 / 622)\n",
      "Training classifier for ssl tag (182 / 622)\n",
      "Training classifier for types tag (183 / 622)\n",
      "Training classifier for android tag (184 / 622)\n",
      "Training classifier for windows-services tag (185 / 622)\n",
      "Training classifier for qt tag (186 / 622)\n",
      "Training classifier for syntax tag (187 / 622)\n",
      "Training classifier for resources tag (188 / 622)\n",
      "Training classifier for gcc tag (189 / 622)\n",
      "Training classifier for concurrency tag (190 / 622)\n",
      "Training classifier for error-handling tag (191 / 622)\n",
      "Training classifier for variables tag (192 / 622)\n",
      "Training classifier for function tag (193 / 622)\n",
      "Training classifier for actionscript tag (194 / 622)\n",
      "Training classifier for dictionary tag (195 / 622)\n",
      "Training classifier for asp.net-ajax tag (196 / 622)\n",
      "Training classifier for ant tag (197 / 622)\n",
      "Training classifier for xsd tag (198 / 622)\n",
      "Training classifier for tomcat tag (199 / 622)\n",
      "Training classifier for process tag (200 / 622)\n",
      "Training classifier for cookies tag (201 / 622)\n",
      "Training classifier for maven-2 tag (202 / 622)\n",
      "Training classifier for soap tag (203 / 622)\n",
      "Training classifier for reference tag (204 / 622)\n",
      "Training classifier for compact-framework tag (205 / 622)\n",
      "Training classifier for project-management tag (206 / 622)\n",
      "Training classifier for mod-rewrite tag (207 / 622)\n",
      "Training classifier for properties tag (208 / 622)\n",
      "Training classifier for iis-6 tag (209 / 622)\n",
      "Training classifier for encoding tag (210 / 622)\n",
      "Training classifier for 64bit tag (211 / 622)\n",
      "Training classifier for refactoring tag (212 / 622)\n",
      "Training classifier for crystal-reports tag (213 / 622)\n",
      "Training classifier for google-app-engine tag (214 / 622)\n",
      "Training classifier for excel-vba tag (215 / 622)\n",
      "Training classifier for binding tag (216 / 622)\n",
      "Training classifier for vbscript tag (217 / 622)\n",
      "Training classifier for installer tag (218 / 622)\n",
      "Training classifier for localization tag (219 / 622)\n",
      "Training classifier for programming-languages tag (220 / 622)\n",
      "Training classifier for service tag (221 / 622)\n",
      "Training classifier for internationalization tag (222 / 622)\n",
      "Training classifier for xhtml tag (223 / 622)\n",
      "Training classifier for object tag (224 / 622)\n",
      "Training classifier for formatting tag (225 / 622)\n",
      "Training classifier for webforms tag (226 / 622)\n",
      "Training classifier for servlets tag (227 / 622)\n",
      "Training classifier for filesystems tag (228 / 622)\n",
      "Training classifier for datatable tag (229 / 622)\n",
      "Training classifier for printing tag (230 / 622)\n",
      "Training classifier for boost tag (231 / 622)\n",
      "Training classifier for datagridview tag (232 / 622)\n",
      "Training classifier for parameters tag (233 / 622)\n",
      "Training classifier for interop tag (234 / 622)\n",
      "Training classifier for tdd tag (235 / 622)\n",
      "Training classifier for embedded tag (236 / 622)\n",
      "Training classifier for functional-programming tag (237 / 622)\n",
      "Training classifier for xpath tag (238 / 622)\n",
      "Training classifier for permissions tag (239 / 622)\n",
      "Training classifier for datagrid tag (240 / 622)\n",
      "Training classifier for gwt tag (241 / 622)\n",
      "Training classifier for lambda tag (242 / 622)\n",
      "Training classifier for hash tag (243 / 622)\n",
      "Training classifier for listview tag (244 / 622)\n",
      "Training classifier for f# tag (245 / 622)\n",
      "Training classifier for inversion-of-control tag (246 / 622)\n",
      "Training classifier for enums tag (247 / 622)\n",
      "Training classifier for assemblies tag (248 / 622)\n",
      "Training classifier for ms-word tag (249 / 622)\n",
      "Training classifier for java-me tag (250 / 622)\n",
      "Training classifier for comparison tag (251 / 622)\n",
      "Training classifier for time tag (252 / 622)\n",
      "Training classifier for csv tag (253 / 622)\n",
      "Training classifier for iis-7 tag (254 / 622)\n",
      "Training classifier for text tag (255 / 622)\n",
      "Training classifier for indexing tag (256 / 622)\n",
      "Training classifier for dns tag (257 / 622)\n",
      "Training classifier for merge tag (258 / 622)\n",
      "Training classifier for jpa tag (259 / 622)\n",
      "Training classifier for video tag (260 / 622)\n",
      "Training classifier for sharepoint-2007 tag (261 / 622)\n",
      "Training classifier for .htaccess tag (262 / 622)\n",
      "Training classifier for windows-installer tag (263 / 622)\n",
      "Training classifier for redirect tag (264 / 622)\n",
      "Training classifier for cross-platform tag (265 / 622)\n",
      "Training classifier for transactions tag (266 / 622)\n",
      "Training classifier for linq-to-xml tag (267 / 622)\n",
      "Training classifier for ios tag (268 / 622)\n",
      "Training classifier for editor tag (269 / 622)\n",
      "Training classifier for activerecord tag (270 / 622)\n",
      "Training classifier for random tag (271 / 622)\n",
      "Training classifier for active-directory tag (272 / 622)\n",
      "Training classifier for combobox tag (273 / 622)\n",
      "Training classifier for internet-explorer-6 tag (274 / 622)\n",
      "Training classifier for treeview tag (275 / 622)\n",
      "Training classifier for image-processing tag (276 / 622)\n",
      "Training classifier for naming-conventions tag (277 / 622)\n",
      "Training classifier for fonts tag (278 / 622)\n",
      "Training classifier for animation tag (279 / 622)\n",
      "Training classifier for memory-leaks tag (280 / 622)\n",
      "Training classifier for agile tag (281 / 622)\n",
      "Training classifier for dynamic tag (282 / 622)\n",
      "Training classifier for triggers tag (283 / 622)\n",
      "Training classifier for tortoisesvn tag (284 / 622)\n",
      "Training classifier for event-handling tag (285 / 622)\n",
      "Training classifier for cross-browser tag (286 / 622)\n",
      "Training classifier for automation tag (287 / 622)\n",
      "Training classifier for django-models tag (288 / 622)\n",
      "Training classifier for windows-xp tag (289 / 622)\n",
      "Training classifier for google-maps tag (290 / 622)\n",
      "Training classifier for dependency-injection tag (291 / 622)\n",
      "Training classifier for air tag (292 / 622)\n",
      "Training classifier for assembly tag (293 / 622)\n",
      "Training classifier for profiling tag (294 / 622)\n",
      "Training classifier for loops tag (295 / 622)\n",
      "Training classifier for utf-8 tag (296 / 622)\n",
      "Training classifier for locking tag (297 / 622)\n",
      "Training classifier for web-config tag (298 / 622)\n",
      "Training classifier for master-pages tag (299 / 622)\n",
      "Training classifier for ssis tag (300 / 622)\n",
      "Training classifier for full-text-search tag (301 / 622)\n",
      "Training classifier for subsonic tag (302 / 622)\n",
      "Training classifier for garbage-collection tag (303 / 622)\n",
      "Training classifier for routes tag (304 / 622)\n",
      "Training classifier for 3d tag (305 / 622)\n",
      "Training classifier for jquery-ui tag (306 / 622)\n",
      "Training classifier for migration tag (307 / 622)\n",
      "Training classifier for namespaces tag (308 / 622)\n",
      "Training classifier for eclipse-plugin tag (309 / 622)\n",
      "Training classifier for casting tag (310 / 622)\n",
      "Training classifier for module tag (311 / 622)\n",
      "Training classifier for smtp tag (312 / 622)\n",
      "Training classifier for dataset tag (313 / 622)\n",
      "Training classifier for constructor tag (314 / 622)\n",
      "Training classifier for linker tag (315 / 622)\n",
      "Training classifier for sql-server-2000 tag (316 / 622)\n",
      "Training classifier for path tag (317 / 622)\n",
      "Training classifier for mocking tag (318 / 622)\n",
      "Training classifier for wordpress tag (319 / 622)\n",
      "Training classifier for upload tag (320 / 622)\n",
      "Training classifier for asp.net-membership tag (321 / 622)\n",
      "Training classifier for layout tag (322 / 622)\n",
      "Training classifier for proxy tag (323 / 622)\n",
      "Training classifier for jdbc tag (324 / 622)\n",
      "Training classifier for synchronization tag (325 / 622)\n",
      "Training classifier for select tag (326 / 622)\n",
      "Training classifier for matlab tag (327 / 622)\n",
      "Training classifier for recursion tag (328 / 622)\n",
      "Training classifier for iframe tag (329 / 622)\n",
      "Training classifier for cmd tag (330 / 622)\n",
      "Training classifier for network-programming tag (331 / 622)\n",
      "Training classifier for backup tag (332 / 622)\n",
      "Training classifier for jboss tag (333 / 622)\n",
      "Training classifier for domain-driven-design tag (334 / 622)\n",
      "Training classifier for ftp tag (335 / 622)\n"
     ]
    },
    {
     "name": "stdout",
     "output_type": "stream",
     "text": [
      "Training classifier for nunit tag (336 / 622)\n",
      "Training classifier for c#-3.0 tag (337 / 622)\n",
      "Training classifier for tcp tag (338 / 622)\n",
      "Training classifier for attributes tag (339 / 622)\n",
      "Training classifier for documentation tag (340 / 622)\n",
      "Training classifier for ms-office tag (341 / 622)\n",
      "Training classifier for uitableview tag (342 / 622)\n",
      "Training classifier for cruisecontrol.net tag (343 / 622)\n",
      "Training classifier for rss tag (344 / 622)\n",
      "Training classifier for colors tag (345 / 622)\n",
      "Training classifier for compression tag (346 / 622)\n",
      "Training classifier for timezone tag (347 / 622)\n",
      "Training classifier for join tag (348 / 622)\n",
      "Training classifier for mobile tag (349 / 622)\n",
      "Training classifier for methods tag (350 / 622)\n",
      "Training classifier for http-headers tag (351 / 622)\n",
      "Training classifier for binary tag (352 / 622)\n",
      "Training classifier for silverlight-2.0 tag (353 / 622)\n",
      "Training classifier for haskell tag (354 / 622)\n",
      "Training classifier for outlook tag (355 / 622)\n",
      "Training classifier for asynchronous tag (356 / 622)\n",
      "Training classifier for dependencies tag (357 / 622)\n",
      "Training classifier for asp.net-2.0 tag (358 / 622)\n",
      "Training classifier for continuous-integration tag (359 / 622)\n",
      "Training classifier for uikit tag (360 / 622)\n",
      "Training classifier for delegates tag (361 / 622)\n",
      "Training classifier for netbeans tag (362 / 622)\n",
      "Training classifier for struts tag (363 / 622)\n",
      "Training classifier for keyboard-shortcuts tag (364 / 622)\n",
      "Training classifier for fluent-nhibernate tag (365 / 622)\n",
      "Training classifier for versioning tag (366 / 622)\n",
      "Training classifier for post tag (367 / 622)\n",
      "Training classifier for console tag (368 / 622)\n",
      "Training classifier for vector tag (369 / 622)\n",
      "Training classifier for operating-system tag (370 / 622)\n",
      "Training classifier for makefile tag (371 / 622)\n",
      "Training classifier for extension-methods tag (372 / 622)\n",
      "Training classifier for mono tag (373 / 622)\n",
      "Training classifier for icons tag (374 / 622)\n",
      "Training classifier for url-rewriting tag (375 / 622)\n",
      "Training classifier for reporting tag (376 / 622)\n",
      "Training classifier for clr tag (377 / 622)\n",
      "Training classifier for groovy tag (378 / 622)\n",
      "Training classifier for xml-serialization tag (379 / 622)\n",
      "Training classifier for build-automation tag (380 / 622)\n",
      "Training classifier for cakephp tag (381 / 622)\n",
      "Training classifier for lisp tag (382 / 622)\n",
      "Training classifier for jvm tag (383 / 622)\n",
      "Training classifier for monitoring tag (384 / 622)\n",
      "Training classifier for code-generation tag (385 / 622)\n",
      "Training classifier for jsf tag (386 / 622)\n",
      "Training classifier for coldfusion tag (387 / 622)\n",
      "Training classifier for view tag (388 / 622)\n",
      "Training classifier for button tag (389 / 622)\n",
      "Training classifier for autocomplete tag (390 / 622)\n",
      "Training classifier for keyboard tag (391 / 622)\n",
      "Training classifier for development-environment tag (392 / 622)\n",
      "Training classifier for drag-and-drop tag (393 / 622)\n",
      "Training classifier for floating-point tag (394 / 622)\n",
      "Training classifier for stream tag (395 / 622)\n",
      "Training classifier for cryptography tag (396 / 622)\n",
      "Training classifier for seo tag (397 / 622)\n",
      "Training classifier for latex tag (398 / 622)\n",
      "Training classifier for statistics tag (399 / 622)\n",
      "Training classifier for repository tag (400 / 622)\n",
      "Training classifier for mvvm tag (401 / 622)\n",
      "Training classifier for hardware tag (402 / 622)\n",
      "Training classifier for flex3 tag (403 / 622)\n",
      "Training classifier for delphi-2009 tag (404 / 622)\n",
      "Training classifier for passwords tag (405 / 622)\n",
      "Training classifier for resharper tag (406 / 622)\n",
      "Training classifier for callback tag (407 / 622)\n",
      "Training classifier for web tag (408 / 622)\n",
      "Training classifier for linq-to-entities tag (409 / 622)\n",
      "Training classifier for resize tag (410 / 622)\n",
      "Training classifier for wsdl tag (411 / 622)\n",
      "Training classifier for hosting tag (412 / 622)\n",
      "Training classifier for drupal tag (413 / 622)\n",
      "Training classifier for windows-server-2003 tag (414 / 622)\n",
      "Training classifier for rubygems tag (415 / 622)\n",
      "Training classifier for geometry tag (416 / 622)\n",
      "Training classifier for activex tag (417 / 622)\n",
      "Training classifier for plsql tag (418 / 622)\n",
      "Training classifier for components tag (419 / 622)\n",
      "Training classifier for compilation tag (420 / 622)\n",
      "Training classifier for textbox tag (421 / 622)\n",
      "Training classifier for internet-explorer-7 tag (422 / 622)\n",
      "Training classifier for nhibernate-mapping tag (423 / 622)\n",
      "Training classifier for grails tag (424 / 622)\n",
      "Training classifier for lucene tag (425 / 622)\n",
      "Training classifier for gdb tag (426 / 622)\n",
      "Training classifier for schema tag (427 / 622)\n",
      "Training classifier for listbox tag (428 / 622)\n",
      "Training classifier for model tag (429 / 622)\n",
      "Training classifier for static tag (430 / 622)\n",
      "Training classifier for cvs tag (431 / 622)\n",
      "Training classifier for file-upload tag (432 / 622)\n",
      "Training classifier for replace tag (433 / 622)\n",
      "Training classifier for include tag (434 / 622)\n",
      "Training classifier for https tag (435 / 622)\n",
      "Training classifier for diff tag (436 / 622)\n",
      "Training classifier for comments tag (437 / 622)\n",
      "Training classifier for tags tag (438 / 622)\n",
      "Training classifier for javascript-events tag (439 / 622)\n",
      "Training classifier for selenium tag (440 / 622)\n",
      "Training classifier for io tag (441 / 622)\n",
      "Training classifier for safari tag (442 / 622)\n",
      "Training classifier for input tag (443 / 622)\n",
      "Training classifier for prototypejs tag (444 / 622)\n",
      "Training classifier for virtualization tag (445 / 622)\n",
      "Training classifier for ldap tag (446 / 622)\n",
      "Training classifier for forms-authentication tag (447 / 622)\n",
      "Training classifier for replication tag (448 / 622)\n",
      "Training classifier for usability tag (449 / 622)\n",
      "Training classifier for wss tag (450 / 622)\n",
      "Training classifier for openid tag (451 / 622)\n",
      "Training classifier for video-streaming tag (452 / 622)\n",
      "Training classifier for gdi+ tag (453 / 622)\n",
      "Training classifier for updatepanel tag (454 / 622)\n",
      "Training classifier for ssh tag (455 / 622)\n",
      "Training classifier for erlang tag (456 / 622)\n",
      "Training classifier for applet tag (457 / 622)\n",
      "Training classifier for character-encoding tag (458 / 622)\n",
      "Training classifier for cgi tag (459 / 622)\n",
      "Training classifier for ssms tag (460 / 622)\n",
      "Training classifier for drop-down-menu tag (461 / 622)\n",
      "Training classifier for escaping tag (462 / 622)\n",
      "Training classifier for directx tag (463 / 622)\n",
      "Training classifier for odbc tag (464 / 622)\n",
      "Training classifier for nant tag (465 / 622)\n",
      "Training classifier for jar tag (466 / 622)\n",
      "Training classifier for sql-injection tag (467 / 622)\n",
      "Training classifier for zip tag (468 / 622)\n",
      "Training classifier for junit tag (469 / 622)\n",
      "Training classifier for report tag (470 / 622)\n",
      "Training classifier for download tag (471 / 622)\n",
      "Training classifier for hyperlink tag (472 / 622)\n",
      "Training classifier for content-management-system tag (473 / 622)\n",
      "Training classifier for wix tag (474 / 622)\n",
      "Training classifier for serial-port tag (475 / 622)\n",
      "Training classifier for ubuntu tag (476 / 622)\n",
      "Training classifier for header tag (477 / 622)\n",
      "Training classifier for memcached tag (478 / 622)\n",
      "Training classifier for directory tag (479 / 622)\n",
      "Training classifier for workflow tag (480 / 622)\n",
      "Training classifier for httpwebrequest tag (481 / 622)\n",
      "Training classifier for facebook tag (482 / 622)\n",
      "Training classifier for initialization tag (483 / 622)\n",
      "Training classifier for actionscript-2 tag (484 / 622)\n",
      "Training classifier for html-table tag (485 / 622)\n",
      "Training classifier for queue tag (486 / 622)\n",
      "Training classifier for cygwin tag (487 / 622)\n",
      "Training classifier for export tag (488 / 622)\n",
      "Training classifier for menu tag (489 / 622)\n",
      "Training classifier for persistence tag (490 / 622)\n",
      "Training classifier for wmi tag (491 / 622)\n",
      "Training classifier for biztalk tag (492 / 622)\n",
      "Training classifier for curl tag (493 / 622)\n",
      "Training classifier for charts tag (494 / 622)\n",
      "Training classifier for certificate tag (495 / 622)\n",
      "Training classifier for struts2 tag (496 / 622)\n",
      "Training classifier for struct tag (497 / 622)\n",
      "Training classifier for wxpython tag (498 / 622)\n",
      "Training classifier for stack tag (499 / 622)\n",
      "Training classifier for registry tag (500 / 622)\n",
      "Training classifier for workflow-foundation tag (501 / 622)\n"
     ]
    },
    {
     "name": "stdout",
     "output_type": "stream",
     "text": [
      "Training classifier for macros tag (502 / 622)\n",
      "Training classifier for scrum tag (503 / 622)\n",
      "Training classifier for pinvoke tag (504 / 622)\n",
      "Training classifier for exchange-server tag (505 / 622)\n",
      "Training classifier for visual-sourcesafe tag (506 / 622)\n",
      "Training classifier for iterator tag (507 / 622)\n",
      "Training classifier for sysadmin tag (508 / 622)\n",
      "Training classifier for singleton tag (509 / 622)\n",
      "Training classifier for mercurial tag (510 / 622)\n",
      "Training classifier for scheme tag (511 / 622)\n",
      "Training classifier for x86 tag (512 / 622)\n",
      "Training classifier for ip-address tag (513 / 622)\n",
      "Training classifier for dynamic-data tag (514 / 622)\n",
      "Training classifier for tree tag (515 / 622)\n",
      "Training classifier for connection tag (516 / 622)\n",
      "Training classifier for operator-overloading tag (517 / 622)\n",
      "Training classifier for vmware tag (518 / 622)\n",
      "Training classifier for django-forms tag (519 / 622)\n",
      "Training classifier for uml tag (520 / 622)\n",
      "Training classifier for db2 tag (521 / 622)\n",
      "Training classifier for timeout tag (522 / 622)\n",
      "Training classifier for polymorphism tag (523 / 622)\n",
      "Training classifier for project tag (524 / 622)\n",
      "Training classifier for mouse tag (525 / 622)\n",
      "Training classifier for mapping tag (526 / 622)\n",
      "Training classifier for kernel tag (527 / 622)\n",
      "Training classifier for usb tag (528 / 622)\n",
      "Training classifier for import tag (529 / 622)\n",
      "Training classifier for windows-ce tag (530 / 622)\n",
      "Training classifier for google-chrome tag (531 / 622)\n",
      "Training classifier for postback tag (532 / 622)\n",
      "Training classifier for duplicates tag (533 / 622)\n",
      "Training classifier for integer tag (534 / 622)\n",
      "Training classifier for firebug tag (535 / 622)\n",
      "Training classifier for remoting tag (536 / 622)\n",
      "Training classifier for standards tag (537 / 622)\n",
      "Training classifier for gtk tag (538 / 622)\n",
      "Training classifier for viewstate tag (539 / 622)\n",
      "Training classifier for jquery-plugins tag (540 / 622)\n",
      "Training classifier for licensing tag (541 / 622)\n",
      "Training classifier for django-admin tag (542 / 622)\n",
      "Training classifier for foreign-keys tag (543 / 622)\n",
      "Training classifier for constraints tag (544 / 622)\n",
      "Training classifier for c-preprocessor tag (545 / 622)\n",
      "Training classifier for xss tag (546 / 622)\n",
      "Training classifier for diagram tag (547 / 622)\n",
      "Training classifier for core-graphics tag (548 / 622)\n",
      "Training classifier for language-features tag (549 / 622)\n",
      "Training classifier for format tag (550 / 622)\n",
      "Training classifier for data-access-layer tag (551 / 622)\n",
      "Training classifier for code-coverage tag (552 / 622)\n",
      "Training classifier for common-lisp tag (553 / 622)\n",
      "Training classifier for scroll tag (554 / 622)\n",
      "Training classifier for constants tag (555 / 622)\n",
      "Training classifier for copy tag (556 / 622)\n",
      "Training classifier for timer tag (557 / 622)\n",
      "Training classifier for themes tag (558 / 622)\n",
      "Training classifier for computer-science tag (559 / 622)\n",
      "Training classifier for udp tag (560 / 622)\n",
      "Training classifier for automated-tests tag (561 / 622)\n",
      "Training classifier for warnings tag (562 / 622)\n",
      "Training classifier for webserver tag (563 / 622)\n",
      "Training classifier for reportviewer tag (564 / 622)\n",
      "Training classifier for aop tag (565 / 622)\n",
      "Training classifier for guid tag (566 / 622)\n",
      "Training classifier for class-design tag (567 / 622)\n",
      "Training classifier for css-selectors tag (568 / 622)\n",
      "Training classifier for log4net tag (569 / 622)\n",
      "Training classifier for ipc tag (570 / 622)\n",
      "Training classifier for text-editor tag (571 / 622)\n",
      "Training classifier for scope tag (572 / 622)\n",
      "Training classifier for insert tag (573 / 622)\n",
      "Training classifier for screen-scraping tag (574 / 622)\n",
      "Training classifier for mp3 tag (575 / 622)\n",
      "Training classifier for split tag (576 / 622)\n",
      "Training classifier for metadata tag (577 / 622)\n",
      "Training classifier for xna tag (578 / 622)\n",
      "Training classifier for wiki tag (579 / 622)\n",
      "Training classifier for authorization tag (580 / 622)\n",
      "Training classifier for windows-server-2008 tag (581 / 622)\n",
      "Training classifier for svg tag (582 / 622)\n",
      "Training classifier for terminology tag (583 / 622)\n",
      "Training classifier for methodology tag (584 / 622)\n",
      "Training classifier for add-in tag (585 / 622)\n",
      "Training classifier for awk tag (586 / 622)\n",
      "Training classifier for canvas tag (587 / 622)\n",
      "Training classifier for grid tag (588 / 622)\n",
      "Training classifier for clickonce tag (589 / 622)\n",
      "Training classifier for calendar tag (590 / 622)\n",
      "Training classifier for c++-cli tag (591 / 622)\n",
      "Training classifier for newline tag (592 / 622)\n",
      "Training classifier for integration tag (593 / 622)\n",
      "Training classifier for version tag (594 / 622)\n",
      "Training classifier for sed tag (595 / 622)\n",
      "Training classifier for bit-manipulation tag (596 / 622)\n",
      "Training classifier for cron tag (597 / 622)\n",
      "Training classifier for pdf-generation tag (598 / 622)\n",
      "Training classifier for blackberry tag (599 / 622)\n",
      "Training classifier for settings tag (600 / 622)\n",
      "Training classifier for classpath tag (601 / 622)\n",
      "Training classifier for castle-windsor tag (602 / 622)\n",
      "Training classifier for rhino-mocks tag (603 / 622)\n",
      "Training classifier for primary-key tag (604 / 622)\n",
      "Training classifier for numbers tag (605 / 622)\n",
      "Training classifier for internet-explorer-8 tag (606 / 622)\n",
      "Training classifier for const tag (607 / 622)\n",
      "Training classifier for mvp tag (608 / 622)\n",
      "Training classifier for theory tag (609 / 622)\n",
      "Training classifier for core-animation tag (610 / 622)\n",
      "Training classifier for styles tag (611 / 622)\n",
      "Training classifier for graph-theory tag (612 / 622)\n",
      "Training classifier for jstl tag (613 / 622)\n",
      "Training classifier for websphere tag (614 / 622)\n",
      "Training classifier for yui tag (615 / 622)\n",
      "Training classifier for language-design tag (616 / 622)\n",
      "Training classifier for bug-tracking tag (617 / 622)\n",
      "Training classifier for c#-2.0 tag (618 / 622)\n",
      "Training classifier for idisposable tag (619 / 622)\n",
      "Training classifier for crash tag (620 / 622)\n",
      "Training classifier for solaris tag (621 / 622)\n",
      "Training classifier for maintenance tag (622 / 622)\n"
     ]
    }
   ],
   "source": [
    "classifiers = []\n",
    "count = 1\n",
    "for tag in sel_tags_train:\n",
    "    print(\"Training classifier for %s tag (%i / %i)\" % (tag, count, len(sel_tags_train)))\n",
    "#     # Retrieve tag frequency\n",
    "#     get_tag_counts = count_tags_train[count_tags_train.Tag == tag].Count.values\n",
    "#     # Use tag frequency to prune trees (not ok with c#)\n",
    "#     depth_to_prune = np.polyval(poly_prune_trees, get_tag_counts)\n",
    "#     classifier = tree.DecisionTreeClassifier(criterion='entropy', random_state=0)\n",
    "#     classifier = svm.LinearSVC(random_state=0)\n",
    "#     classifier = linear_model.LogisticRegression(random_state=0)\n",
    "    classifier = ensemble.RandomForestClassifier(n_estimators = 100)\n",
    "    classifier.fit(X_train, y_train_kg[tag])\n",
    "    classifiers.append(classifier)\n",
    "    count += 1"
   ]
  },
  {
   "cell_type": "markdown",
   "metadata": {},
   "source": [
    "#### Predict proba of predicting tag for each classifier based on test data"
   ]
  },
  {
   "cell_type": "code",
   "execution_count": 77,
   "metadata": {
    "scrolled": true
   },
   "outputs": [
    {
     "name": "stdout",
     "output_type": "stream",
     "text": [
      "0  /  622\n",
      "1  /  622\n",
      "2  /  622\n",
      "3  /  622\n",
      "4  /  622\n",
      "5  /  622\n",
      "6  /  622\n",
      "7  /  622\n",
      "8  /  622\n",
      "9  /  622\n",
      "10  /  622\n",
      "11  /  622\n",
      "12  /  622\n",
      "13  /  622\n",
      "14  /  622\n",
      "15  /  622\n",
      "16  /  622\n",
      "17  /  622\n",
      "18  /  622\n",
      "19  /  622\n",
      "20  /  622\n",
      "21  /  622\n",
      "22  /  622\n",
      "23  /  622\n",
      "24  /  622\n",
      "25  /  622\n",
      "26  /  622\n",
      "27  /  622\n",
      "28  /  622\n",
      "29  /  622\n",
      "30  /  622\n",
      "31  /  622\n",
      "32  /  622\n",
      "33  /  622\n",
      "34  /  622\n",
      "35  /  622\n",
      "36  /  622\n",
      "37  /  622\n",
      "38  /  622\n",
      "39  /  622\n",
      "40  /  622\n",
      "41  /  622\n",
      "42  /  622\n",
      "43  /  622\n",
      "44  /  622\n",
      "45  /  622\n",
      "46  /  622\n",
      "47  /  622\n",
      "48  /  622\n",
      "49  /  622\n",
      "50  /  622\n",
      "51  /  622\n",
      "52  /  622\n",
      "53  /  622\n",
      "54  /  622\n",
      "55  /  622\n",
      "56  /  622\n",
      "57  /  622\n",
      "58  /  622\n",
      "59  /  622\n",
      "60  /  622\n",
      "61  /  622\n",
      "62  /  622\n",
      "63  /  622\n",
      "64  /  622\n",
      "65  /  622\n",
      "66  /  622\n",
      "67  /  622\n",
      "68  /  622\n",
      "69  /  622\n",
      "70  /  622\n",
      "71  /  622\n",
      "72  /  622\n",
      "73  /  622\n",
      "74  /  622\n",
      "75  /  622\n",
      "76  /  622\n",
      "77  /  622\n",
      "78  /  622\n",
      "79  /  622\n",
      "80  /  622\n",
      "81  /  622\n",
      "82  /  622\n",
      "83  /  622\n",
      "84  /  622\n",
      "85  /  622\n",
      "86  /  622\n",
      "87  /  622\n",
      "88  /  622\n",
      "89  /  622\n",
      "90  /  622\n",
      "91  /  622\n",
      "92  /  622\n",
      "93  /  622\n",
      "94  /  622\n",
      "95  /  622\n",
      "96  /  622\n",
      "97  /  622\n",
      "98  /  622\n",
      "99  /  622\n",
      "100  /  622\n",
      "101  /  622\n",
      "102  /  622\n",
      "103  /  622\n",
      "104  /  622\n",
      "105  /  622\n",
      "106  /  622\n",
      "107  /  622\n",
      "108  /  622\n",
      "109  /  622\n",
      "110  /  622\n",
      "111  /  622\n",
      "112  /  622\n",
      "113  /  622\n",
      "114  /  622\n",
      "115  /  622\n",
      "116  /  622\n",
      "117  /  622\n",
      "118  /  622\n",
      "119  /  622\n",
      "120  /  622\n",
      "121  /  622\n",
      "122  /  622\n",
      "123  /  622\n",
      "124  /  622\n",
      "125  /  622\n",
      "126  /  622\n",
      "127  /  622\n",
      "128  /  622\n",
      "129  /  622\n",
      "130  /  622\n",
      "131  /  622\n",
      "132  /  622\n",
      "133  /  622\n",
      "134  /  622\n",
      "135  /  622\n",
      "136  /  622\n",
      "137  /  622\n",
      "138  /  622\n",
      "139  /  622\n",
      "140  /  622\n",
      "141  /  622\n",
      "142  /  622\n",
      "143  /  622\n",
      "144  /  622\n",
      "145  /  622\n",
      "146  /  622\n",
      "147  /  622\n",
      "148  /  622\n",
      "149  /  622\n",
      "150  /  622\n",
      "151  /  622\n",
      "152  /  622\n",
      "153  /  622\n",
      "154  /  622\n",
      "155  /  622\n",
      "156  /  622\n",
      "157  /  622\n",
      "158  /  622\n",
      "159  /  622\n",
      "160  /  622\n",
      "161  /  622\n",
      "162  /  622\n",
      "163  /  622\n",
      "164  /  622\n",
      "165  /  622\n",
      "166  /  622\n",
      "167  /  622\n",
      "168  /  622\n",
      "169  /  622\n",
      "170  /  622\n",
      "171  /  622\n",
      "172  /  622\n",
      "173  /  622\n",
      "174  /  622\n",
      "175  /  622\n",
      "176  /  622\n",
      "177  /  622\n",
      "178  /  622\n",
      "179  /  622\n",
      "180  /  622\n",
      "181  /  622\n",
      "182  /  622\n",
      "183  /  622\n",
      "184  /  622\n",
      "185  /  622\n",
      "186  /  622\n",
      "187  /  622\n",
      "188  /  622\n",
      "189  /  622\n",
      "190  /  622\n",
      "191  /  622\n",
      "192  /  622\n",
      "193  /  622\n",
      "194  /  622\n",
      "195  /  622\n",
      "196  /  622\n",
      "197  /  622\n",
      "198  /  622\n",
      "199  /  622\n",
      "200  /  622\n",
      "201  /  622\n",
      "202  /  622\n",
      "203  /  622\n",
      "204  /  622\n",
      "205  /  622\n",
      "206  /  622\n",
      "207  /  622\n",
      "208  /  622\n",
      "209  /  622\n",
      "210  /  622\n",
      "211  /  622\n",
      "212  /  622\n",
      "213  /  622\n",
      "214  /  622\n",
      "215  /  622\n",
      "216  /  622\n",
      "217  /  622\n",
      "218  /  622\n",
      "219  /  622\n",
      "220  /  622\n",
      "221  /  622\n",
      "222  /  622\n",
      "223  /  622\n",
      "224  /  622\n",
      "225  /  622\n",
      "226  /  622\n",
      "227  /  622\n",
      "228  /  622\n",
      "229  /  622\n",
      "230  /  622\n",
      "231  /  622\n",
      "232  /  622\n",
      "233  /  622\n",
      "234  /  622\n",
      "235  /  622\n",
      "236  /  622\n",
      "237  /  622\n",
      "238  /  622\n",
      "239  /  622\n",
      "240  /  622\n",
      "241  /  622\n",
      "242  /  622\n",
      "243  /  622\n",
      "244  /  622\n",
      "245  /  622\n",
      "246  /  622\n",
      "247  /  622\n",
      "248  /  622\n",
      "249  /  622\n",
      "250  /  622\n",
      "251  /  622\n",
      "252  /  622\n",
      "253  /  622\n",
      "254  /  622\n",
      "255  /  622\n",
      "256  /  622\n",
      "257  /  622\n",
      "258  /  622\n",
      "259  /  622\n",
      "260  /  622\n",
      "261  /  622\n",
      "262  /  622\n",
      "263  /  622\n",
      "264  /  622\n",
      "265  /  622\n",
      "266  /  622\n",
      "267  /  622\n",
      "268  /  622\n",
      "269  /  622\n",
      "270  /  622\n",
      "271  /  622\n",
      "272  /  622\n",
      "273  /  622\n",
      "274  /  622\n",
      "275  /  622\n",
      "276  /  622\n",
      "277  /  622\n",
      "278  /  622\n",
      "279  /  622\n",
      "280  /  622\n",
      "281  /  622\n",
      "282  /  622\n",
      "283  /  622\n",
      "284  /  622\n",
      "285  /  622\n",
      "286  /  622\n",
      "287  /  622\n",
      "288  /  622\n",
      "289  /  622\n",
      "290  /  622\n",
      "291  /  622\n",
      "292  /  622\n",
      "293  /  622\n",
      "294  /  622\n",
      "295  /  622\n",
      "296  /  622\n",
      "297  /  622\n",
      "298  /  622\n",
      "299  /  622\n",
      "300  /  622\n",
      "301  /  622\n",
      "302  /  622\n",
      "303  /  622\n",
      "304  /  622\n",
      "305  /  622\n",
      "306  /  622\n",
      "307  /  622\n",
      "308  /  622\n",
      "309  /  622\n",
      "310  /  622\n",
      "311  /  622\n",
      "312  /  622\n",
      "313  /  622\n",
      "314  /  622\n",
      "315  /  622\n",
      "316  /  622\n",
      "317  /  622\n",
      "318  /  622\n",
      "319  /  622\n",
      "320  /  622\n",
      "321  /  622\n",
      "322  /  622\n",
      "323  /  622\n",
      "324  /  622\n",
      "325  /  622\n",
      "326  /  622\n",
      "327  /  622\n",
      "328  /  622\n",
      "329  /  622\n",
      "330  /  622\n",
      "331  /  622\n",
      "332  /  622\n",
      "333  /  622\n",
      "334  /  622\n",
      "335  /  622\n",
      "336  /  622\n",
      "337  /  622\n",
      "338  /  622\n",
      "339  /  622\n",
      "340  /  622\n",
      "341  /  622\n",
      "342  /  622\n",
      "343  /  622\n",
      "344  /  622\n",
      "345  /  622\n",
      "346  /  622\n",
      "347  /  622\n",
      "348  /  622\n",
      "349  /  622\n",
      "350  /  622\n",
      "351  /  622\n",
      "352  /  622\n",
      "353  /  622\n",
      "354  /  622\n",
      "355  /  622\n",
      "356  /  622\n",
      "357  /  622\n",
      "358  /  622\n",
      "359  /  622\n",
      "360  /  622\n",
      "361  /  622\n",
      "362  /  622\n",
      "363  /  622\n",
      "364  /  622\n",
      "365  /  622\n",
      "366  /  622\n",
      "367  /  622\n",
      "368  /  622\n",
      "369  /  622\n",
      "370  /  622\n",
      "371  /  622\n",
      "372  /  622\n",
      "373  /  622\n",
      "374  /  622\n",
      "375  /  622\n",
      "376  /  622\n",
      "377  /  622\n",
      "378  /  622\n",
      "379  /  622\n",
      "380  /  622\n",
      "381  /  622\n",
      "382  /  622\n",
      "383  /  622\n",
      "384  /  622\n",
      "385  /  622\n",
      "386  /  622\n",
      "387  /  622\n",
      "388  /  622\n",
      "389  /  622\n",
      "390  /  622\n",
      "391  /  622\n",
      "392  /  622\n",
      "393  /  622\n",
      "394  /  622\n",
      "395  /  622\n",
      "396  /  622\n",
      "397  /  622\n",
      "398  /  622\n",
      "399  /  622\n",
      "400  /  622\n",
      "401  /  622\n",
      "402  /  622\n",
      "403  /  622\n",
      "404  /  622\n",
      "405  /  622\n",
      "406  /  622\n",
      "407  /  622\n",
      "408  /  622\n",
      "409  /  622\n",
      "410  /  622\n",
      "411  /  622\n",
      "412  /  622\n",
      "413  /  622\n",
      "414  /  622\n",
      "415  /  622\n",
      "416  /  622\n",
      "417  /  622\n",
      "418  /  622\n",
      "419  /  622\n",
      "420  /  622\n",
      "421  /  622\n",
      "422  /  622\n",
      "423  /  622\n",
      "424  /  622\n",
      "425  /  622\n",
      "426  /  622\n",
      "427  /  622\n",
      "428  /  622\n",
      "429  /  622\n",
      "430  /  622\n",
      "431  /  622\n",
      "432  /  622\n",
      "433  /  622\n",
      "434  /  622\n",
      "435  /  622\n",
      "436  /  622\n",
      "437  /  622\n",
      "438  /  622\n",
      "439  /  622\n",
      "440  /  622\n",
      "441  /  622\n",
      "442  /  622\n",
      "443  /  622\n",
      "444  /  622\n",
      "445  /  622\n",
      "446  /  622\n",
      "447  /  622\n",
      "448  /  622\n",
      "449  /  622\n",
      "450  /  622\n",
      "451  /  622\n",
      "452  /  622\n",
      "453  /  622\n",
      "454  /  622\n",
      "455  /  622\n",
      "456  /  622\n",
      "457  /  622\n",
      "458  /  622\n",
      "459  /  622\n",
      "460  /  622\n",
      "461  /  622\n",
      "462  /  622\n",
      "463  /  622\n",
      "464  /  622\n",
      "465  /  622\n",
      "466  /  622\n",
      "467  /  622\n",
      "468  /  622\n",
      "469  /  622\n",
      "470  /  622\n",
      "471  /  622\n",
      "472  /  622\n",
      "473  /  622\n",
      "474  /  622\n",
      "475  /  622\n",
      "476  /  622\n",
      "477  /  622\n",
      "478  /  622\n",
      "479  /  622\n",
      "480  /  622\n",
      "481  /  622\n",
      "482  /  622\n",
      "483  /  622\n",
      "484  /  622\n",
      "485  /  622\n",
      "486  /  622\n",
      "487  /  622\n",
      "488  /  622\n",
      "489  /  622\n",
      "490  /  622\n",
      "491  /  622\n",
      "492  /  622\n",
      "493  /  622\n",
      "494  /  622\n",
      "495  /  622\n",
      "496  /  622\n",
      "497  /  622\n",
      "498  /  622\n",
      "499  /  622\n",
      "500  /  622\n",
      "501  /  622\n",
      "502  /  622\n",
      "503  /  622\n",
      "504  /  622\n",
      "505  /  622\n",
      "506  /  622\n",
      "507  /  622\n",
      "508  /  622\n",
      "509  /  622\n",
      "510  /  622\n",
      "511  /  622\n",
      "512  /  622\n",
      "513  /  622\n",
      "514  /  622\n",
      "515  /  622\n",
      "516  /  622\n",
      "517  /  622\n",
      "518  /  622\n",
      "519  /  622\n",
      "520  /  622\n",
      "521  /  622\n",
      "522  /  622\n",
      "523  /  622\n",
      "524  /  622\n",
      "525  /  622\n",
      "526  /  622\n",
      "527  /  622\n",
      "528  /  622\n",
      "529  /  622\n",
      "530  /  622\n",
      "531  /  622\n",
      "532  /  622\n",
      "533  /  622\n",
      "534  /  622\n",
      "535  /  622\n",
      "536  /  622\n",
      "537  /  622\n",
      "538  /  622\n",
      "539  /  622\n",
      "540  /  622\n",
      "541  /  622\n",
      "542  /  622\n",
      "543  /  622\n",
      "544  /  622\n",
      "545  /  622\n",
      "546  /  622\n",
      "547  /  622\n",
      "548  /  622\n",
      "549  /  622\n",
      "550  /  622\n",
      "551  /  622\n",
      "552  /  622\n",
      "553  /  622\n",
      "554  /  622\n",
      "555  /  622\n",
      "556  /  622\n",
      "557  /  622\n",
      "558  /  622\n",
      "559  /  622\n",
      "560  /  622\n",
      "561  /  622\n",
      "562  /  622\n",
      "563  /  622\n",
      "564  /  622\n",
      "565  /  622\n",
      "566  /  622\n",
      "567  /  622\n",
      "568  /  622\n",
      "569  /  622\n",
      "570  /  622\n",
      "571  /  622\n",
      "572  /  622\n",
      "573  /  622\n",
      "574  /  622\n",
      "575  /  622\n",
      "576  /  622\n",
      "577  /  622\n",
      "578  /  622\n",
      "579  /  622\n",
      "580  /  622\n",
      "581  /  622\n",
      "582  /  622\n",
      "583  /  622\n",
      "584  /  622\n",
      "585  /  622\n",
      "586  /  622\n",
      "587  /  622\n",
      "588  /  622\n",
      "589  /  622\n",
      "590  /  622\n",
      "591  /  622\n",
      "592  /  622\n",
      "593  /  622\n",
      "594  /  622\n",
      "595  /  622\n",
      "596  /  622\n",
      "597  /  622\n",
      "598  /  622\n",
      "599  /  622\n",
      "600  /  622\n",
      "601  /  622\n",
      "602  /  622\n",
      "603  /  622\n",
      "604  /  622\n",
      "605  /  622\n",
      "606  /  622\n",
      "607  /  622\n",
      "608  /  622\n",
      "609  /  622\n",
      "610  /  622\n",
      "611  /  622\n",
      "612  /  622\n",
      "613  /  622\n",
      "614  /  622\n",
      "615  /  622\n",
      "616  /  622\n",
      "617  /  622\n",
      "618  /  622\n",
      "619  /  622\n",
      "620  /  622\n",
      "621  /  622\n"
     ]
    }
   ],
   "source": [
    "test_predictions = []\n",
    "count = 0\n",
    "zero_array = np.zeros((X_test.shape[0]))\n",
    "for clf in classifiers:\n",
    "    print(count, \" / \", len(classifiers))\n",
    "    prediction = clf.predict_proba(X_test)\n",
    "\n",
    "    if prediction.shape[1] == 2:\n",
    "        test_predictions.append(prediction[:,1])\n",
    "    elif prediction.shape[1] == 1:\n",
    "        test_predictions.append(zero_array)\n",
    "    else:\n",
    "        import pdb;pdb.set_trace()\n",
    "    count += 1"
   ]
  },
  {
   "cell_type": "markdown",
   "metadata": {},
   "source": [
    "Convert list of arrays to dataframe and keep probabilities over trusted threshold as tags predictions"
   ]
  },
  {
   "cell_type": "code",
   "execution_count": 82,
   "metadata": {},
   "outputs": [],
   "source": [
    "# Convert to df\n",
    "test_predictions_df = pd.DataFrame(np.array(test_predictions).T, columns=y_test_kg.columns)\n",
    "# Set threshold\n",
    "trusted_threshold = 0\n",
    "# Map threshold\n",
    "test_predictions_df_thresh = test_predictions_df.copy()\n",
    "test_predictions_df_thresh[test_predictions_df_thresh < trusted_threshold] = 0\n",
    "# test_predictions_df = get_trusted_tag_predictions(test_predictions_df, trusted_threshold)"
   ]
  },
  {
   "cell_type": "markdown",
   "metadata": {},
   "source": [
    "#### Build Predicted tags from classifiers, if more than 5 keep the 5 first with highest probability"
   ]
  },
  {
   "cell_type": "code",
   "execution_count": 83,
   "metadata": {
    "scrolled": true
   },
   "outputs": [],
   "source": [
    "y_pred_kg = pd.Series()\n",
    "y_pred_kg = test_predictions_df_thresh.apply(get_most_probable_tags, args=(sel_tags_train,), axis=1)"
   ]
  },
  {
   "cell_type": "markdown",
   "metadata": {},
   "source": [
    "Concatenate predicted tags and true tags for comparison"
   ]
  },
  {
   "cell_type": "code",
   "execution_count": 84,
   "metadata": {
    "scrolled": true
   },
   "outputs": [
    {
     "data": {
      "text/html": [
       "<div>\n",
       "<style scoped>\n",
       "    .dataframe tbody tr th:only-of-type {\n",
       "        vertical-align: middle;\n",
       "    }\n",
       "\n",
       "    .dataframe tbody tr th {\n",
       "        vertical-align: top;\n",
       "    }\n",
       "\n",
       "    .dataframe thead th {\n",
       "        text-align: right;\n",
       "    }\n",
       "</style>\n",
       "<table border=\"1\" class=\"dataframe\">\n",
       "  <thead>\n",
       "    <tr style=\"text-align: right;\">\n",
       "      <th></th>\n",
       "      <th>Predicted_Tags</th>\n",
       "      <th>True_Tags</th>\n",
       "      <th>Local_Metric</th>\n",
       "    </tr>\n",
       "  </thead>\n",
       "  <tbody>\n",
       "    <tr>\n",
       "      <th>27209</th>\n",
       "      <td>java/apache/c#/linux/visual-c++</td>\n",
       "      <td>vba/vb6/ide/vbe</td>\n",
       "      <td>0.000000</td>\n",
       "    </tr>\n",
       "    <tr>\n",
       "      <th>81096</th>\n",
       "      <td>c#/ssl/tfs/.net/c++</td>\n",
       "      <td>stored-procedures/db2</td>\n",
       "      <td>0.000000</td>\n",
       "    </tr>\n",
       "    <tr>\n",
       "      <th>70915</th>\n",
       "      <td>java/mysql/c#/windows/multithreading</td>\n",
       "      <td>windows/powershell/windows-server-2000</td>\n",
       "      <td>0.333333</td>\n",
       "    </tr>\n",
       "    <tr>\n",
       "      <th>148580</th>\n",
       "      <td>c#/ruby-on-rails/ruby/mysql/java</td>\n",
       "      <td>c-minus-minus/centos/pear/pear</td>\n",
       "      <td>0.250000</td>\n",
       "    </tr>\n",
       "    <tr>\n",
       "      <th>144387</th>\n",
       "      <td>java/.net/c#/winforms/user-interface</td>\n",
       "      <td>iphone/sandbox</td>\n",
       "      <td>0.000000</td>\n",
       "    </tr>\n",
       "    <tr>\n",
       "      <th>162593</th>\n",
       "      <td>iphone/c#/perl/java/windows</td>\n",
       "      <td>django</td>\n",
       "      <td>0.000000</td>\n",
       "    </tr>\n",
       "    <tr>\n",
       "      <th>126149</th>\n",
       "      <td>iphone/c#/php/java/c++</td>\n",
       "      <td>performance/perl</td>\n",
       "      <td>0.000000</td>\n",
       "    </tr>\n",
       "    <tr>\n",
       "      <th>34767</th>\n",
       "      <td>java/c#/c++/blackberry/java-me</td>\n",
       "      <td>mysql/join/distinct</td>\n",
       "      <td>0.000000</td>\n",
       "    </tr>\n",
       "    <tr>\n",
       "      <th>41950</th>\n",
       "      <td>c++/c#/java/unicode/c-minus-minus</td>\n",
       "      <td>java</td>\n",
       "      <td>1.000000</td>\n",
       "    </tr>\n",
       "    <tr>\n",
       "      <th>161965</th>\n",
       "      <td>c++/vim/django/linux/kernel</td>\n",
       "      <td>.net/annotations/paint</td>\n",
       "      <td>0.000000</td>\n",
       "    </tr>\n",
       "    <tr>\n",
       "      <th>151967</th>\n",
       "      <td>.net/c#/wcf/linux/jquery</td>\n",
       "      <td>http/proxy/erlang/yaws</td>\n",
       "      <td>0.000000</td>\n",
       "    </tr>\n",
       "    <tr>\n",
       "      <th>107964</th>\n",
       "      <td>ruby-on-rails/iphone/java/ruby/erlang</td>\n",
       "      <td>ironpython/ironclad</td>\n",
       "      <td>0.000000</td>\n",
       "    </tr>\n",
       "    <tr>\n",
       "      <th>136620</th>\n",
       "      <td>asp.net/.net/java/iphone/c#</td>\n",
       "      <td>sqlite/unique/identity/auto-generate</td>\n",
       "      <td>0.000000</td>\n",
       "    </tr>\n",
       "    <tr>\n",
       "      <th>16755</th>\n",
       "      <td>groovy/mocking/image-processing/python/usability</td>\n",
       "      <td>.net/winforms/mono</td>\n",
       "      <td>0.000000</td>\n",
       "    </tr>\n",
       "    <tr>\n",
       "      <th>23082</th>\n",
       "      <td>c#/asp.net/ssl/sql-server/database</td>\n",
       "      <td>.net/sql-server/database-design/oop</td>\n",
       "      <td>0.250000</td>\n",
       "    </tr>\n",
       "    <tr>\n",
       "      <th>51741</th>\n",
       "      <td>iphone/actionscript-3/java/c++/objective-c</td>\n",
       "      <td>tomcat/properties/system-properties/context.xml</td>\n",
       "      <td>0.000000</td>\n",
       "    </tr>\n",
       "    <tr>\n",
       "      <th>22939</th>\n",
       "      <td>java/c++/vba/c#/.net</td>\n",
       "      <td>php/image/jpeg/gd</td>\n",
       "      <td>0.000000</td>\n",
       "    </tr>\n",
       "    <tr>\n",
       "      <th>147048</th>\n",
       "      <td>vim/linux/c#/model-view-controller/data-struct...</td>\n",
       "      <td>iphone</td>\n",
       "      <td>0.000000</td>\n",
       "    </tr>\n",
       "    <tr>\n",
       "      <th>154260</th>\n",
       "      <td>c#/asp.net/java/synchronization/multithreading</td>\n",
       "      <td>java/.net/multithreading/concurrency/ccr</td>\n",
       "      <td>0.400000</td>\n",
       "    </tr>\n",
       "    <tr>\n",
       "      <th>70616</th>\n",
       "      <td>c#/iphone/vim/.net/jquery</td>\n",
       "      <td>asp.net-mvc/model-view-controller/conventions</td>\n",
       "      <td>0.000000</td>\n",
       "    </tr>\n",
       "    <tr>\n",
       "      <th>46458</th>\n",
       "      <td>c#/ruby-on-rails/c++/ruby/.net</td>\n",
       "      <td>.net/web-services/exception/wsdl/timeout</td>\n",
       "      <td>0.200000</td>\n",
       "    </tr>\n",
       "    <tr>\n",
       "      <th>118503</th>\n",
       "      <td>javascript/c#/html/java/c++</td>\n",
       "      <td>c#/winforms/controls</td>\n",
       "      <td>0.333333</td>\n",
       "    </tr>\n",
       "    <tr>\n",
       "      <th>102620</th>\n",
       "      <td>iphone/c#/mysql/php/excel</td>\n",
       "      <td>c#/windows-services</td>\n",
       "      <td>0.500000</td>\n",
       "    </tr>\n",
       "    <tr>\n",
       "      <th>82812</th>\n",
       "      <td>php/c#/c++/python/.net</td>\n",
       "      <td>drag-and-drop/javascript</td>\n",
       "      <td>0.000000</td>\n",
       "    </tr>\n",
       "    <tr>\n",
       "      <th>94060</th>\n",
       "      <td>java/ruby-on-rails/svn/ruby/iphone</td>\n",
       "      <td>c-minus-minus/struct/calloc</td>\n",
       "      <td>0.000000</td>\n",
       "    </tr>\n",
       "    <tr>\n",
       "      <th>93193</th>\n",
       "      <td>php/asp.net/c#/.net/select</td>\n",
       "      <td>c#/arrays/sorting</td>\n",
       "      <td>0.333333</td>\n",
       "    </tr>\n",
       "    <tr>\n",
       "      <th>128303</th>\n",
       "      <td>c#/wpf/themes/.net/asp.net-mvc</td>\n",
       "      <td>asp.net-mvc/unit-testing/routes</td>\n",
       "      <td>0.333333</td>\n",
       "    </tr>\n",
       "    <tr>\n",
       "      <th>8015</th>\n",
       "      <td>.net/ruby-on-rails/c#/flash/utf-8</td>\n",
       "      <td>java/oracle/security/passwords</td>\n",
       "      <td>0.000000</td>\n",
       "    </tr>\n",
       "    <tr>\n",
       "      <th>117949</th>\n",
       "      <td>vim/c++/c#/iphone/utf-8</td>\n",
       "      <td>asp.net-mvc</td>\n",
       "      <td>0.000000</td>\n",
       "    </tr>\n",
       "    <tr>\n",
       "      <th>83111</th>\n",
       "      <td>iphone/c++/php/c#/windows</td>\n",
       "      <td>x11</td>\n",
       "      <td>0.000000</td>\n",
       "    </tr>\n",
       "    <tr>\n",
       "      <th>...</th>\n",
       "      <td>...</td>\n",
       "      <td>...</td>\n",
       "      <td>...</td>\n",
       "    </tr>\n",
       "    <tr>\n",
       "      <th>156244</th>\n",
       "      <td>c++/c-minus-minus/database/oracle/web-services</td>\n",
       "      <td>mysql/database</td>\n",
       "      <td>0.500000</td>\n",
       "    </tr>\n",
       "    <tr>\n",
       "      <th>77688</th>\n",
       "      <td>asp.net/iphone/java/c++/c#</td>\n",
       "      <td>sql/ruby-on-rails/ruby/oracle</td>\n",
       "      <td>0.000000</td>\n",
       "    </tr>\n",
       "    <tr>\n",
       "      <th>10260</th>\n",
       "      <td>iphone/c#/c++/cookies/xml</td>\n",
       "      <td>c#/sqldatareader/sqlxml/xmlnode</td>\n",
       "      <td>0.250000</td>\n",
       "    </tr>\n",
       "    <tr>\n",
       "      <th>49074</th>\n",
       "      <td>c#/.net/ssl/datatable/multithreading</td>\n",
       "      <td>ftp/sql-server-2000/dts</td>\n",
       "      <td>0.000000</td>\n",
       "    </tr>\n",
       "    <tr>\n",
       "      <th>95983</th>\n",
       "      <td>c++/wpf/flash/postgresql/python</td>\n",
       "      <td>java/maven-2/hudson/artifactory</td>\n",
       "      <td>0.000000</td>\n",
       "    </tr>\n",
       "    <tr>\n",
       "      <th>41957</th>\n",
       "      <td>c++/oracle/windows/c#/user-interface</td>\n",
       "      <td>.net/visual-studio/winforms</td>\n",
       "      <td>0.000000</td>\n",
       "    </tr>\n",
       "    <tr>\n",
       "      <th>94353</th>\n",
       "      <td>linq/c++/linux/.net/c#</td>\n",
       "      <td>flash/actionscript-3</td>\n",
       "      <td>0.000000</td>\n",
       "    </tr>\n",
       "    <tr>\n",
       "      <th>57381</th>\n",
       "      <td>java/wpf/utf-8/c#/design-patterns</td>\n",
       "      <td>asp.net/checkbox/user-controls/checkboxlist</td>\n",
       "      <td>0.000000</td>\n",
       "    </tr>\n",
       "    <tr>\n",
       "      <th>105807</th>\n",
       "      <td>c#/.net/asp.net/c++/java</td>\n",
       "      <td>.net/entity-framework/ado.net</td>\n",
       "      <td>0.333333</td>\n",
       "    </tr>\n",
       "    <tr>\n",
       "      <th>42605</th>\n",
       "      <td>asp.net/iphone/c#/flash/c++</td>\n",
       "      <td>java/generics/casting/polymorphism</td>\n",
       "      <td>0.000000</td>\n",
       "    </tr>\n",
       "    <tr>\n",
       "      <th>75295</th>\n",
       "      <td>java/c#/.net/applet/user-interface</td>\n",
       "      <td>cocoa-touch</td>\n",
       "      <td>0.000000</td>\n",
       "    </tr>\n",
       "    <tr>\n",
       "      <th>169372</th>\n",
       "      <td>c#/php/actionscript-3/.net/c++</td>\n",
       "      <td>java/install/jnlp/izpack</td>\n",
       "      <td>0.000000</td>\n",
       "    </tr>\n",
       "    <tr>\n",
       "      <th>59019</th>\n",
       "      <td>java/c#/.net/asp.net/c++</td>\n",
       "      <td>user-interface/design/input/translation</td>\n",
       "      <td>0.000000</td>\n",
       "    </tr>\n",
       "    <tr>\n",
       "      <th>20928</th>\n",
       "      <td>flash/coding-style/ruby/c#/php</td>\n",
       "      <td>commercial-application</td>\n",
       "      <td>0.000000</td>\n",
       "    </tr>\n",
       "    <tr>\n",
       "      <th>153795</th>\n",
       "      <td>c#/ruby-on-rails/c++/java/iphone</td>\n",
       "      <td>asp.net/sql-server-2005/replication</td>\n",
       "      <td>0.000000</td>\n",
       "    </tr>\n",
       "    <tr>\n",
       "      <th>145261</th>\n",
       "      <td>c#/iphone/web-services/python/matlab</td>\n",
       "      <td>data-structures</td>\n",
       "      <td>0.000000</td>\n",
       "    </tr>\n",
       "    <tr>\n",
       "      <th>20606</th>\n",
       "      <td>c#/iphone/c++/java/windows</td>\n",
       "      <td>.net/scheduled-tasks</td>\n",
       "      <td>0.000000</td>\n",
       "    </tr>\n",
       "    <tr>\n",
       "      <th>92585</th>\n",
       "      <td>c#/.net/web-services/asp.net/utf-8</td>\n",
       "      <td>ruby-on-rails/has-many</td>\n",
       "      <td>0.000000</td>\n",
       "    </tr>\n",
       "    <tr>\n",
       "      <th>143513</th>\n",
       "      <td>asp.net/php/java/c++/objective-c</td>\n",
       "      <td>python/performance/numpy</td>\n",
       "      <td>0.000000</td>\n",
       "    </tr>\n",
       "    <tr>\n",
       "      <th>114979</th>\n",
       "      <td>python/c#/c++/asp.net/encryption</td>\n",
       "      <td>python/decorator/python-decorators</td>\n",
       "      <td>0.333333</td>\n",
       "    </tr>\n",
       "    <tr>\n",
       "      <th>29286</th>\n",
       "      <td>utf-8/linux/python/terminology/kernel</td>\n",
       "      <td>eclipse</td>\n",
       "      <td>0.000000</td>\n",
       "    </tr>\n",
       "    <tr>\n",
       "      <th>129617</th>\n",
       "      <td>iphone/c#/.net/c++/linq</td>\n",
       "      <td>asp.net/ajax/updatepanel/postback</td>\n",
       "      <td>0.000000</td>\n",
       "    </tr>\n",
       "    <tr>\n",
       "      <th>45004</th>\n",
       "      <td>java/c#/.net/groovy/python</td>\n",
       "      <td>java/user-interface/screenshot/jxbrowser</td>\n",
       "      <td>0.250000</td>\n",
       "    </tr>\n",
       "    <tr>\n",
       "      <th>89648</th>\n",
       "      <td>c#/.net/utf-8/python/terminology</td>\n",
       "      <td>.net/wcf/x509</td>\n",
       "      <td>0.333333</td>\n",
       "    </tr>\n",
       "    <tr>\n",
       "      <th>159834</th>\n",
       "      <td>c#/wcf/cocoa-touch/passwords/visual-studio</td>\n",
       "      <td>wordpress/statistics</td>\n",
       "      <td>0.000000</td>\n",
       "    </tr>\n",
       "    <tr>\n",
       "      <th>138086</th>\n",
       "      <td>iphone/linq/ruby-on-rails/.net/java</td>\n",
       "      <td>java/sql/sql-server-2005</td>\n",
       "      <td>0.333333</td>\n",
       "    </tr>\n",
       "    <tr>\n",
       "      <th>156336</th>\n",
       "      <td>c#/.net/web-services/excel/pdf</td>\n",
       "      <td>php/cross-browser/xampp</td>\n",
       "      <td>0.000000</td>\n",
       "    </tr>\n",
       "    <tr>\n",
       "      <th>156896</th>\n",
       "      <td>vba/c++/linux/c#/synchronization</td>\n",
       "      <td>asp.net/vb.net/session-variables</td>\n",
       "      <td>0.000000</td>\n",
       "    </tr>\n",
       "    <tr>\n",
       "      <th>39721</th>\n",
       "      <td>c#/asp.net/batch-file/javascript/c++</td>\n",
       "      <td>visual-studio/visual-studio-2008</td>\n",
       "      <td>0.000000</td>\n",
       "    </tr>\n",
       "    <tr>\n",
       "      <th>159090</th>\n",
       "      <td>c#/c++/.net/linux/c-minus-minus</td>\n",
       "      <td>c#/class/naming-conventions</td>\n",
       "      <td>0.333333</td>\n",
       "    </tr>\n",
       "  </tbody>\n",
       "</table>\n",
       "<p>8000 rows × 3 columns</p>\n",
       "</div>"
      ],
      "text/plain": [
       "                                           Predicted_Tags  \\\n",
       "27209                     java/apache/c#/linux/visual-c++   \n",
       "81096                                 c#/ssl/tfs/.net/c++   \n",
       "70915                java/mysql/c#/windows/multithreading   \n",
       "148580                   c#/ruby-on-rails/ruby/mysql/java   \n",
       "144387               java/.net/c#/winforms/user-interface   \n",
       "162593                        iphone/c#/perl/java/windows   \n",
       "126149                             iphone/c#/php/java/c++   \n",
       "34767                      java/c#/c++/blackberry/java-me   \n",
       "41950                   c++/c#/java/unicode/c-minus-minus   \n",
       "161965                        c++/vim/django/linux/kernel   \n",
       "151967                           .net/c#/wcf/linux/jquery   \n",
       "107964              ruby-on-rails/iphone/java/ruby/erlang   \n",
       "136620                        asp.net/.net/java/iphone/c#   \n",
       "16755    groovy/mocking/image-processing/python/usability   \n",
       "23082                  c#/asp.net/ssl/sql-server/database   \n",
       "51741          iphone/actionscript-3/java/c++/objective-c   \n",
       "22939                                java/c++/vba/c#/.net   \n",
       "147048  vim/linux/c#/model-view-controller/data-struct...   \n",
       "154260     c#/asp.net/java/synchronization/multithreading   \n",
       "70616                           c#/iphone/vim/.net/jquery   \n",
       "46458                      c#/ruby-on-rails/c++/ruby/.net   \n",
       "118503                        javascript/c#/html/java/c++   \n",
       "102620                          iphone/c#/mysql/php/excel   \n",
       "82812                              php/c#/c++/python/.net   \n",
       "94060                  java/ruby-on-rails/svn/ruby/iphone   \n",
       "93193                          php/asp.net/c#/.net/select   \n",
       "128303                     c#/wpf/themes/.net/asp.net-mvc   \n",
       "8015                    .net/ruby-on-rails/c#/flash/utf-8   \n",
       "117949                            vim/c++/c#/iphone/utf-8   \n",
       "83111                           iphone/c++/php/c#/windows   \n",
       "...                                                   ...   \n",
       "156244     c++/c-minus-minus/database/oracle/web-services   \n",
       "77688                          asp.net/iphone/java/c++/c#   \n",
       "10260                           iphone/c#/c++/cookies/xml   \n",
       "49074                c#/.net/ssl/datatable/multithreading   \n",
       "95983                     c++/wpf/flash/postgresql/python   \n",
       "41957                c++/oracle/windows/c#/user-interface   \n",
       "94353                              linq/c++/linux/.net/c#   \n",
       "57381                   java/wpf/utf-8/c#/design-patterns   \n",
       "105807                           c#/.net/asp.net/c++/java   \n",
       "42605                         asp.net/iphone/c#/flash/c++   \n",
       "75295                  java/c#/.net/applet/user-interface   \n",
       "169372                     c#/php/actionscript-3/.net/c++   \n",
       "59019                            java/c#/.net/asp.net/c++   \n",
       "20928                      flash/coding-style/ruby/c#/php   \n",
       "153795                   c#/ruby-on-rails/c++/java/iphone   \n",
       "145261               c#/iphone/web-services/python/matlab   \n",
       "20606                          c#/iphone/c++/java/windows   \n",
       "92585                  c#/.net/web-services/asp.net/utf-8   \n",
       "143513                   asp.net/php/java/c++/objective-c   \n",
       "114979                   python/c#/c++/asp.net/encryption   \n",
       "29286               utf-8/linux/python/terminology/kernel   \n",
       "129617                            iphone/c#/.net/c++/linq   \n",
       "45004                          java/c#/.net/groovy/python   \n",
       "89648                    c#/.net/utf-8/python/terminology   \n",
       "159834         c#/wcf/cocoa-touch/passwords/visual-studio   \n",
       "138086                iphone/linq/ruby-on-rails/.net/java   \n",
       "156336                     c#/.net/web-services/excel/pdf   \n",
       "156896                   vba/c++/linux/c#/synchronization   \n",
       "39721                c#/asp.net/batch-file/javascript/c++   \n",
       "159090                    c#/c++/.net/linux/c-minus-minus   \n",
       "\n",
       "                                              True_Tags  Local_Metric  \n",
       "27209                                   vba/vb6/ide/vbe      0.000000  \n",
       "81096                             stored-procedures/db2      0.000000  \n",
       "70915            windows/powershell/windows-server-2000      0.333333  \n",
       "148580                   c-minus-minus/centos/pear/pear      0.250000  \n",
       "144387                                   iphone/sandbox      0.000000  \n",
       "162593                                           django      0.000000  \n",
       "126149                                 performance/perl      0.000000  \n",
       "34767                               mysql/join/distinct      0.000000  \n",
       "41950                                              java      1.000000  \n",
       "161965                           .net/annotations/paint      0.000000  \n",
       "151967                           http/proxy/erlang/yaws      0.000000  \n",
       "107964                              ironpython/ironclad      0.000000  \n",
       "136620             sqlite/unique/identity/auto-generate      0.000000  \n",
       "16755                                .net/winforms/mono      0.000000  \n",
       "23082               .net/sql-server/database-design/oop      0.250000  \n",
       "51741   tomcat/properties/system-properties/context.xml      0.000000  \n",
       "22939                                 php/image/jpeg/gd      0.000000  \n",
       "147048                                           iphone      0.000000  \n",
       "154260         java/.net/multithreading/concurrency/ccr      0.400000  \n",
       "70616     asp.net-mvc/model-view-controller/conventions      0.000000  \n",
       "46458          .net/web-services/exception/wsdl/timeout      0.200000  \n",
       "118503                             c#/winforms/controls      0.333333  \n",
       "102620                              c#/windows-services      0.500000  \n",
       "82812                          drag-and-drop/javascript      0.000000  \n",
       "94060                       c-minus-minus/struct/calloc      0.000000  \n",
       "93193                                 c#/arrays/sorting      0.333333  \n",
       "128303                  asp.net-mvc/unit-testing/routes      0.333333  \n",
       "8015                     java/oracle/security/passwords      0.000000  \n",
       "117949                                      asp.net-mvc      0.000000  \n",
       "83111                                               x11      0.000000  \n",
       "...                                                 ...           ...  \n",
       "156244                                   mysql/database      0.500000  \n",
       "77688                     sql/ruby-on-rails/ruby/oracle      0.000000  \n",
       "10260                   c#/sqldatareader/sqlxml/xmlnode      0.250000  \n",
       "49074                           ftp/sql-server-2000/dts      0.000000  \n",
       "95983                   java/maven-2/hudson/artifactory      0.000000  \n",
       "41957                       .net/visual-studio/winforms      0.000000  \n",
       "94353                              flash/actionscript-3      0.000000  \n",
       "57381       asp.net/checkbox/user-controls/checkboxlist      0.000000  \n",
       "105807                    .net/entity-framework/ado.net      0.333333  \n",
       "42605                java/generics/casting/polymorphism      0.000000  \n",
       "75295                                       cocoa-touch      0.000000  \n",
       "169372                         java/install/jnlp/izpack      0.000000  \n",
       "59019           user-interface/design/input/translation      0.000000  \n",
       "20928                            commercial-application      0.000000  \n",
       "153795              asp.net/sql-server-2005/replication      0.000000  \n",
       "145261                                  data-structures      0.000000  \n",
       "20606                              .net/scheduled-tasks      0.000000  \n",
       "92585                            ruby-on-rails/has-many      0.000000  \n",
       "143513                         python/performance/numpy      0.000000  \n",
       "114979               python/decorator/python-decorators      0.333333  \n",
       "29286                                           eclipse      0.000000  \n",
       "129617                asp.net/ajax/updatepanel/postback      0.000000  \n",
       "45004          java/user-interface/screenshot/jxbrowser      0.250000  \n",
       "89648                                     .net/wcf/x509      0.333333  \n",
       "159834                             wordpress/statistics      0.000000  \n",
       "138086                         java/sql/sql-server-2005      0.333333  \n",
       "156336                          php/cross-browser/xampp      0.000000  \n",
       "156896                 asp.net/vb.net/session-variables      0.000000  \n",
       "39721                  visual-studio/visual-studio-2008      0.000000  \n",
       "159090                      c#/class/naming-conventions      0.333333  \n",
       "\n",
       "[8000 rows x 3 columns]"
      ]
     },
     "metadata": {},
     "output_type": "display_data"
    }
   ],
   "source": [
    "y_pred_kg.index = y_test_kg_tags.index\n",
    "comparison_df = pd.concat((y_pred_kg, y_test_kg_tags), axis=1)\n",
    "comparison_df.columns = ['Predicted_Tags', 'True_Tags']\n",
    "comparison_df['Local_Metric'] = comparison_df.apply(local_accuracy, axis=1)\n",
    "display(comparison_df)"
   ]
  },
  {
   "cell_type": "code",
   "execution_count": 85,
   "metadata": {},
   "outputs": [
    {
     "name": "stdout",
     "output_type": "stream",
     "text": [
      "Average hand-made local accuracy score : 0.12\n",
      "F1 Score : 0.084\n",
      "sample of binarizer vocabulary ['.emf' '.htaccess' '.htpasswd' ... 'zune' 'zx81' 'zxspectrum']\n"
     ]
    },
    {
     "data": {
      "text/plain": [
       "(0.12260416666666826, 0.08356130952380952)"
      ]
     },
     "execution_count": 85,
     "metadata": {},
     "output_type": "execute_result"
    }
   ],
   "source": [
    "get_scores(comparison_df, unique_tags_serie);"
   ]
  },
  {
   "cell_type": "markdown",
   "metadata": {},
   "source": [
    "#### SCORING GRID, With hand made metric, with classifiers on tag with at least N occurences\n",
    "**Train size - Test size - TFIDF - N occ tags - algorithm - parameter - score - f1_score**\n",
    "\n",
    "* 50000 - 5000 - False - 50 - random forest - proba thresh 0.05 - 0.10\n",
    "* 50000 - 5000 - False - 50 - random forest - proba thresh 0.1 - 0.07\n",
    "* 50000 - 5000 - False - 50 - random forest - proba thresh 0.01 - 0.11 - 0.078\n",
    "* 100000 - 20000 - False - 20 - Logisitic reg - proba thresh 0.01 - 0.61 - 0.419\n",
    "* 100000 - 20000 - False - 20 - Logisitic reg - proba thresh 0.2 - 0.48 - 0.473\n",
    "* 100000 - 20000 - False - 20 - Logisitic reg - proba thresh 0.15 - 0.5 - 0.475\n",
    "* 100000 - 20000 - False - 20 - Logisitic reg - proba thresh 0.1 - 0.54 - 0.473\n",
    "* 30000 - 8000 - False - 20 - Logisitic reg - proba thresh 0 - 0.55 - 0.368\n",
    "* 30000 - 8000 - False - 20 - decision tree - proba thresh 0 - 0.37 - 0.377\n",
    "* 30000 - 8000 - True - 20 - Logisitic reg - proba thresh 0.01 - 0.5 - 0.338\n",
    "* 100000 - 20000 - False - 20 - decision tree - proba thresh 0.1 - 0.42 - 0.412 --> Trees not pruned, threshold useless\n",
    "* 100000 - 20000 - False - 20 - decision tree - proba thresh 0.1 - 0.47 - 0.427 --> Trees pruned with polynom\n",
    "* 100000 - 20000 - False - 20 - decision tree - proba thresh 0.15 - 0.45 - 0.437 --> Trees pruned with polynom\n",
    "* 100000 - 20000 - False - 20 - decision tree - proba thresh 0.2 - 0.44 - 0.440 --> Trees pruned with polynom\n",
    "* 100000 - 20000 - False - 20 - decision tree - proba thresh 0.3 - 0.42 - 0.438 --> Trees pruned with polynom"
   ]
  },
  {
   "cell_type": "markdown",
   "metadata": {},
   "source": [
    "Computing small grid search on prediction trust threshold"
   ]
  },
  {
   "cell_type": "code",
   "execution_count": null,
   "metadata": {
    "scrolled": true
   },
   "outputs": [],
   "source": [
    "thresh = numpy.linspace(0, 1, 50)\n",
    "local_metric = []\n",
    "f1score = []\n",
    "count=1\n",
    "for threshold in thresh:\n",
    "    print(count)\n",
    "    # Convert to df\n",
    "    test_predictions_df = pd.DataFrame(np.array(test_predictions).T, columns=y_test_kg.columns)\n",
    "    # Set threshold\n",
    "    trusted_threshold = threshold\n",
    "    # Map threshold\n",
    "    test_predictions_df_thresh = test_predictions_df.copy()\n",
    "    test_predictions_df_thresh[test_predictions_df_thresh < trusted_threshold] = 0\n",
    "\n",
    "    #### Build Predicted tags from classifiers, if more than 5 keep the 5 first with highest probability\n",
    "    y_pred_kg = pd.Series()\n",
    "    y_pred_kg = test_predictions_df_thresh.apply(get_most_probable_tags, args=(sel_tags_train,), axis=1)\n",
    "\n",
    "    # Concatenate predicted tags and true tags for comparison\n",
    "    y_pred_kg.index = y_test_kg_tags.index\n",
    "    comparison_df = pd.concat((y_pred_kg, y_test_kg_tags), axis=1)\n",
    "    comparison_df.columns = ['Predicted_Tags', 'True_Tags']\n",
    "\n",
    "    temp_metric, temp_f1_score = get_scores(comparison_df, unique_tags_serie, verbose=False)\n",
    "    local_metric.append(temp_metric)\n",
    "    f1score.append(temp_f1_score)\n",
    "    count+=1"
   ]
  },
  {
   "cell_type": "code",
   "execution_count": null,
   "metadata": {},
   "outputs": [],
   "source": [
    "fig, ax = plt.subplots(figsize=(8, 5))\n",
    "sns.set_style(\"darkgrid\")\n",
    "plt.plot(thresh, local_metric, label=\"Local Metric\")\n",
    "plt.plot(thresh, f1score, label=\"F1-Score\")\n",
    "ax.set_xlabel(\"Classifier trust prediction level\", fontsize=12)\n",
    "ax.set_ylabel(\"Metrics score\", fontsize=12)\n",
    "plt.xticks(fontsize=12)\n",
    "plt.yticks(fontsize=12)\n",
    "plt.legend(fontsize=12);"
   ]
  },
  {
   "cell_type": "markdown",
   "metadata": {},
   "source": [
    "## Researches on pruning decision trees based on tag frequency"
   ]
  },
  {
   "cell_type": "code",
   "execution_count": null,
   "metadata": {},
   "outputs": [],
   "source": [
    "loop_depths = []\n",
    "for i in range(50):\n",
    "    print(i)\n",
    "    loop_depths.append(tree.DecisionTreeClassifier(criterion='entropy', random_state=0).fit(X_train_kg, y_train_kg['png']).tree_.max_depth)\n",
    "loop_depths"
   ]
  },
  {
   "cell_type": "code",
   "execution_count": null,
   "metadata": {},
   "outputs": [],
   "source": [
    "# tempotrees = []\n",
    "# for tag in sel_tags_train[:15]:\n",
    "#     print(tag)\n",
    "#     tempotrees.append(tree.DecisionTreeClassifier(criterion='entropy', random_state=0).fit(X_train_kg, y_train_kg[tag]))"
   ]
  },
  {
   "cell_type": "code",
   "execution_count": null,
   "metadata": {},
   "outputs": [],
   "source": [
    "tree_depths = []\n",
    "for clf in classifiers:\n",
    "    tree_depths.append(clf.tree_.max_depth)"
   ]
  },
  {
   "cell_type": "code",
   "execution_count": null,
   "metadata": {
    "scrolled": true
   },
   "outputs": [],
   "source": [
    "temptagscount = count_tags_train[count_tags_train.Count >= min_tag_volumetry]\n",
    "temptagscount['tree_depth'] = pd.Series(tree_depths)\n",
    "temptagscount"
   ]
  },
  {
   "cell_type": "code",
   "execution_count": null,
   "metadata": {},
   "outputs": [],
   "source": [
    "# n_vire = 1\n",
    "temptagscount.plot.scatter('Count', 'tree_depth')\n",
    "temptagscount.corr()"
   ]
  },
  {
   "cell_type": "markdown",
   "metadata": {},
   "source": [
    "Same correlation (Count/tree_depth) and (Percentage/tree_depth)"
   ]
  },
  {
   "cell_type": "code",
   "execution_count": null,
   "metadata": {
    "scrolled": true
   },
   "outputs": [],
   "source": [
    "def exp_func(t):\n",
    "    a = 1\n",
    "    b = 0.0001\n",
    "    try :\n",
    "        res = a*np.exp(b*t)\n",
    "    except:\n",
    "        import pdb;pdb.set_trace()\n",
    "    return res\n",
    "\n",
    "def func(t):\n",
    "    a = 1\n",
    "    b = 1.1\n",
    "    c = 0\n",
    "    try :\n",
    "        res = a*np.power(t, b) + c\n",
    "    except:\n",
    "        import pdb;pdb.set_trace()\n",
    "    return res\n",
    "\n",
    "temptagscount.plot.scatter('Count', 'tree_depth')\n",
    "# ax = plt.gca()\n",
    "# ax.set_xlim((0, 1000))\n",
    "# ax.set_ylim((0, 100))\n",
    "# points = [1, 100, 200, 300, 400, 500, 600, 700, 800, 1000]\n",
    "funced_points = [func(point) for point in temptagscount.Count.values]\n",
    "# print(funced_points)\n",
    "# plt.plot(points, np.log(points))\n",
    "# plt.plot(temptagscount.Count.values, funced_points)\n",
    "subx = [0, 500, 2000, 4000, 6000, 8000, 9000, 14000]\n",
    "suby = [1, 10, 25, 40, 100, 175, 230, 130]\n",
    "plt.plot(subx, suby)\n",
    "\n",
    "z = np.polyfit(subx, suby, 6)\n",
    "p = np.poly1d(z)\n",
    "val_p = np.polyval(p, subx)\n",
    "plt.plot(subx, val_p);"
   ]
  },
  {
   "cell_type": "code",
   "execution_count": null,
   "metadata": {},
   "outputs": [],
   "source": [
    "np.polyval(poly_prune_trees, 13789)"
   ]
  },
  {
   "cell_type": "code",
   "execution_count": null,
   "metadata": {},
   "outputs": [],
   "source": [
    "subx = [0, 500, 2000, 4000, 6000, 8000, 9000, 14000]\n",
    "val_p = np.polyval(poly_prune_trees, subx)\n",
    "plt.plot(subx, val_p);"
   ]
  },
  {
   "cell_type": "code",
   "execution_count": null,
   "metadata": {},
   "outputs": [],
   "source": [
    "arx = np.arange(0,14000)\n",
    "val_par = np.polyval(poly_prune_trees, arx)\n",
    "plt.plot(arx, val_par)\n",
    "plt.plot(subx, val_p);"
   ]
  },
  {
   "cell_type": "code",
   "execution_count": null,
   "metadata": {},
   "outputs": [],
   "source": [
    "pick_dump(p, path + \"/data/poly_prune_trees\")"
   ]
  },
  {
   "cell_type": "code",
   "execution_count": null,
   "metadata": {},
   "outputs": [],
   "source": [
    "subx = [0, 2000, 4000, 6000, 8000, 10000]\n",
    "suby = [1, 25, 40, 100, 175, 300]\n",
    "z = np.polyfit(subx, suby, 3)\n",
    "p = np.poly1d(z)"
   ]
  },
  {
   "cell_type": "code",
   "execution_count": null,
   "metadata": {
    "scrolled": true
   },
   "outputs": [],
   "source": [
    "def log_func(x, p1,p2):\n",
    "  return p1*np.log(x)+p2\n",
    "x = temptagscount.Count.values\n",
    "y = temptagscount.tree_depth.values\n",
    "popt, pcov = scipy.optimize.curve_fit(log_func,  x,  y,  p0=(1.0,10.2))\n",
    "\n",
    "# curve params\n",
    "p1 = popt[0]\n",
    "p2 = popt[1]\n",
    "\n",
    "# plot points\n",
    "temptagscount.iloc[n_vire:].plot.scatter('Count', 'tree_depth')\n",
    "ax = plt.gca()\n",
    "ax.set_xlim((0, 1000))\n",
    "ax.set_ylim((0, 100))\n",
    "\n",
    "# plot curve\n",
    "curvex = np.linspace(1,1000,1000)\n",
    "curvey = log_func(curvex, p1, p2)\n",
    "plt.plot(curvex,curvey,'r', linewidth=5)"
   ]
  }
 ],
 "metadata": {
  "kernelspec": {
   "display_name": "Python 3",
   "language": "python",
   "name": "python3"
  },
  "language_info": {
   "codemirror_mode": {
    "name": "ipython",
    "version": 3
   },
   "file_extension": ".py",
   "mimetype": "text/x-python",
   "name": "python",
   "nbconvert_exporter": "python",
   "pygments_lexer": "ipython3",
   "version": "3.6.5"
  }
 },
 "nbformat": 4,
 "nbformat_minor": 2
}
